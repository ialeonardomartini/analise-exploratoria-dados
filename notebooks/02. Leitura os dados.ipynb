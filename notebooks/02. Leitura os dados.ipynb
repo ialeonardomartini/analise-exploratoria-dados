{
 "cells": [
  {
   "cell_type": "markdown",
   "source": [
    "\n",
    "# Leitura dos dados\n",
    "\n",
    "## Objetivo: Fazer a leitura dos dados e entender como estão estruturados na tabela."
   ],
   "metadata": {
    "collapsed": false
   }
  },
  {
   "cell_type": "markdown",
   "source": [
    "Trabalharemos com dados são da pesquisa de desenvolvedores feita pelo Stack Overflow em 2022."
   ],
   "metadata": {
    "collapsed": false
   }
  },
  {
   "cell_type": "code",
   "execution_count": 1,
   "outputs": [
    {
     "data": {
      "text/plain": "                                                   MainBranch   \nResponseId                                                      \n1                                               None of these  \\\n2                              I am a developer by profession   \n3           I am not primarily a developer, but I write co...   \n4                              I am a developer by profession   \n5                              I am a developer by profession   \n...                                                       ...   \n73264                          I am a developer by profession   \n73265                          I am a developer by profession   \n73266       I am not primarily a developer, but I write co...   \n73267                          I am a developer by profession   \n73268       I used to be a developer by profession, but no...   \n\n                                                   Employment   \nResponseId                                                      \n1                                                         NaN  \\\n2                                         Employed, full-time   \n3                                         Employed, full-time   \n4                                         Employed, full-time   \n5                                         Employed, full-time   \n...                                                       ...   \n73264                                     Employed, full-time   \n73265                                     Employed, full-time   \n73266                                     Employed, full-time   \n73267                                     Employed, full-time   \n73268       Independent contractor, freelancer, or self-em...   \n\n                                      RemoteWork   \nResponseId                                         \n1                                            NaN  \\\n2                                   Fully remote   \n3           Hybrid (some remote, some in-person)   \n4                                   Fully remote   \n5           Hybrid (some remote, some in-person)   \n...                                          ...   \n73264                               Fully remote   \n73265                             Full in-person   \n73266       Hybrid (some remote, some in-person)   \n73267       Hybrid (some remote, some in-person)   \n73268                               Fully remote   \n\n                                             CodingActivities   \nResponseId                                                      \n1                                                         NaN  \\\n2                    Hobby;Contribute to open-source projects   \n3                                                       Hobby   \n4                                I don’t code outside of work   \n5                                                       Hobby   \n...                                                       ...   \n73264                                 Freelance/contract work   \n73265                                                   Hobby   \n73266                           Hobby;School or academic work   \n73267                                                   Hobby   \n73268       Hobby;Contribute to open-source projects;Boots...   \n\n                                                    EdLevel   \nResponseId                                                    \n1                                                       NaN  \\\n2                                                       NaN   \n3           Master’s degree (M.A., M.S., M.Eng., MBA, etc.)   \n4              Bachelor’s degree (B.A., B.S., B.Eng., etc.)   \n5              Bachelor’s degree (B.A., B.S., B.Eng., etc.)   \n...                                                     ...   \n73264          Bachelor’s degree (B.A., B.S., B.Eng., etc.)   \n73265       Master’s degree (M.A., M.S., M.Eng., MBA, etc.)   \n73266          Bachelor’s degree (B.A., B.S., B.Eng., etc.)   \n73267          Bachelor’s degree (B.A., B.S., B.Eng., etc.)   \n73268          Bachelor’s degree (B.A., B.S., B.Eng., etc.)   \n\n                                                    LearnCode   \nResponseId                                                      \n1                                                         NaN  \\\n2                                                         NaN   \n3           Books / Physical media;Friend or family member...   \n4           Books / Physical media;School (i.e., Universit...   \n5           Other online resources (e.g., videos, blogs, f...   \n...                                                       ...   \n73264       Books / Physical media;Other online resources ...   \n73265       Other online resources (e.g., videos, blogs, f...   \n73266       Books / Physical media;Other online resources ...   \n73267              Books / Physical media;On the job training   \n73268       Books / Physical media;Friend or family member...   \n\n                                              LearnCodeOnline   \nResponseId                                                      \n1                                                         NaN  \\\n2                                                         NaN   \n3           Technical documentation;Blogs;Programming Game...   \n4                                                         NaN   \n5           Technical documentation;Blogs;Stack Overflow;O...   \n...                                                       ...   \n73264       Technical documentation;Blogs;Written Tutorial...   \n73265       Technical documentation;Blogs;Written Tutorial...   \n73266       Technical documentation;Programming Games;Stac...   \n73267                                                     NaN   \n73268       Technical documentation;Blogs;Programming Game...   \n\n                        LearnCodeCoursesCert YearsCode YearsCodePro  ...   \nResponseId                                                           ...   \n1                                        NaN       NaN          NaN  ...  \\\n2                                        NaN       NaN          NaN  ...   \n3                                        NaN        14            5  ...   \n4                                        NaN        20           17  ...   \n5                                        NaN         8            3  ...   \n...                                      ...       ...          ...  ...   \n73264                                  Udemy         8            5  ...   \n73265                 Coursera;Udemy;Udacity         6            5  ...   \n73266       Udemy;Codecademy;Pluralsight;edX        42           33  ...   \n73267                                    NaN        50           31  ...   \n73268                      Udemy;Pluralsight        16            5  ...   \n\n                  TimeSearching               TimeAnswering  Onboarding   \nResponseId                                                                \n1                           NaN                         NaN         NaN  \\\n2                           NaN                         NaN         NaN   \n3                           NaN                         NaN         NaN   \n4                           NaN                         NaN         NaN   \n5                           NaN                         NaN         NaN   \n...                         ...                         ...         ...   \n73264       30-60 minutes a day  Less than 15 minutes a day  Just right   \n73265       15-30 minutes a day        60-120 minutes a day   Very long   \n73266       30-60 minutes a day        60-120 minutes a day  Just right   \n73267                       NaN                         NaN         NaN   \n73268                       NaN                         NaN         NaN   \n\n                                             ProfessionalTech TrueFalse_1   \nResponseId                                                                  \n1                                                         NaN         NaN  \\\n2                                                         NaN         NaN   \n3                                                         NaN         NaN   \n4                                                         NaN         NaN   \n5                                                         NaN         NaN   \n...                                                       ...         ...   \n73264       DevOps function;Microservices;Developer portal...         Yes   \n73265                                           None of these          No   \n73266                                           None of these          No   \n73267                                                     NaN         NaN   \n73268                                                     NaN         NaN   \n\n           TrueFalse_2  TrueFalse_3           SurveyLength   \nResponseId                                                   \n1                  NaN          NaN                    NaN  \\\n2                  NaN          NaN               Too long   \n3                  NaN          NaN  Appropriate in length   \n4                  NaN          NaN  Appropriate in length   \n5                  NaN          NaN               Too long   \n...                ...          ...                    ...   \n73264              Yes          Yes               Too long   \n73265              Yes          Yes               Too long   \n73266               No           No  Appropriate in length   \n73267              NaN          NaN  Appropriate in length   \n73268              NaN          NaN  Appropriate in length   \n\n                            SurveyEase ConvertedCompYearly  \nResponseId                                                  \n1                                  NaN                 NaN  \n2                            Difficult                 NaN  \n3           Neither easy nor difficult             40205.0  \n4                                 Easy            215232.0  \n5                                 Easy                 NaN  \n...                                ...                 ...  \n73264                             Easy                 NaN  \n73265                             Easy                 NaN  \n73266                             Easy                 NaN  \n73267                             Easy                 NaN  \n73268                             Easy                 NaN  \n\n[73268 rows x 78 columns]",
      "text/html": "<div>\n<style scoped>\n    .dataframe tbody tr th:only-of-type {\n        vertical-align: middle;\n    }\n\n    .dataframe tbody tr th {\n        vertical-align: top;\n    }\n\n    .dataframe thead th {\n        text-align: right;\n    }\n</style>\n<table border=\"1\" class=\"dataframe\">\n  <thead>\n    <tr style=\"text-align: right;\">\n      <th></th>\n      <th>MainBranch</th>\n      <th>Employment</th>\n      <th>RemoteWork</th>\n      <th>CodingActivities</th>\n      <th>EdLevel</th>\n      <th>LearnCode</th>\n      <th>LearnCodeOnline</th>\n      <th>LearnCodeCoursesCert</th>\n      <th>YearsCode</th>\n      <th>YearsCodePro</th>\n      <th>...</th>\n      <th>TimeSearching</th>\n      <th>TimeAnswering</th>\n      <th>Onboarding</th>\n      <th>ProfessionalTech</th>\n      <th>TrueFalse_1</th>\n      <th>TrueFalse_2</th>\n      <th>TrueFalse_3</th>\n      <th>SurveyLength</th>\n      <th>SurveyEase</th>\n      <th>ConvertedCompYearly</th>\n    </tr>\n    <tr>\n      <th>ResponseId</th>\n      <th></th>\n      <th></th>\n      <th></th>\n      <th></th>\n      <th></th>\n      <th></th>\n      <th></th>\n      <th></th>\n      <th></th>\n      <th></th>\n      <th></th>\n      <th></th>\n      <th></th>\n      <th></th>\n      <th></th>\n      <th></th>\n      <th></th>\n      <th></th>\n      <th></th>\n      <th></th>\n      <th></th>\n    </tr>\n  </thead>\n  <tbody>\n    <tr>\n      <th>1</th>\n      <td>None of these</td>\n      <td>NaN</td>\n      <td>NaN</td>\n      <td>NaN</td>\n      <td>NaN</td>\n      <td>NaN</td>\n      <td>NaN</td>\n      <td>NaN</td>\n      <td>NaN</td>\n      <td>NaN</td>\n      <td>...</td>\n      <td>NaN</td>\n      <td>NaN</td>\n      <td>NaN</td>\n      <td>NaN</td>\n      <td>NaN</td>\n      <td>NaN</td>\n      <td>NaN</td>\n      <td>NaN</td>\n      <td>NaN</td>\n      <td>NaN</td>\n    </tr>\n    <tr>\n      <th>2</th>\n      <td>I am a developer by profession</td>\n      <td>Employed, full-time</td>\n      <td>Fully remote</td>\n      <td>Hobby;Contribute to open-source projects</td>\n      <td>NaN</td>\n      <td>NaN</td>\n      <td>NaN</td>\n      <td>NaN</td>\n      <td>NaN</td>\n      <td>NaN</td>\n      <td>...</td>\n      <td>NaN</td>\n      <td>NaN</td>\n      <td>NaN</td>\n      <td>NaN</td>\n      <td>NaN</td>\n      <td>NaN</td>\n      <td>NaN</td>\n      <td>Too long</td>\n      <td>Difficult</td>\n      <td>NaN</td>\n    </tr>\n    <tr>\n      <th>3</th>\n      <td>I am not primarily a developer, but I write co...</td>\n      <td>Employed, full-time</td>\n      <td>Hybrid (some remote, some in-person)</td>\n      <td>Hobby</td>\n      <td>Master’s degree (M.A., M.S., M.Eng., MBA, etc.)</td>\n      <td>Books / Physical media;Friend or family member...</td>\n      <td>Technical documentation;Blogs;Programming Game...</td>\n      <td>NaN</td>\n      <td>14</td>\n      <td>5</td>\n      <td>...</td>\n      <td>NaN</td>\n      <td>NaN</td>\n      <td>NaN</td>\n      <td>NaN</td>\n      <td>NaN</td>\n      <td>NaN</td>\n      <td>NaN</td>\n      <td>Appropriate in length</td>\n      <td>Neither easy nor difficult</td>\n      <td>40205.0</td>\n    </tr>\n    <tr>\n      <th>4</th>\n      <td>I am a developer by profession</td>\n      <td>Employed, full-time</td>\n      <td>Fully remote</td>\n      <td>I don’t code outside of work</td>\n      <td>Bachelor’s degree (B.A., B.S., B.Eng., etc.)</td>\n      <td>Books / Physical media;School (i.e., Universit...</td>\n      <td>NaN</td>\n      <td>NaN</td>\n      <td>20</td>\n      <td>17</td>\n      <td>...</td>\n      <td>NaN</td>\n      <td>NaN</td>\n      <td>NaN</td>\n      <td>NaN</td>\n      <td>NaN</td>\n      <td>NaN</td>\n      <td>NaN</td>\n      <td>Appropriate in length</td>\n      <td>Easy</td>\n      <td>215232.0</td>\n    </tr>\n    <tr>\n      <th>5</th>\n      <td>I am a developer by profession</td>\n      <td>Employed, full-time</td>\n      <td>Hybrid (some remote, some in-person)</td>\n      <td>Hobby</td>\n      <td>Bachelor’s degree (B.A., B.S., B.Eng., etc.)</td>\n      <td>Other online resources (e.g., videos, blogs, f...</td>\n      <td>Technical documentation;Blogs;Stack Overflow;O...</td>\n      <td>NaN</td>\n      <td>8</td>\n      <td>3</td>\n      <td>...</td>\n      <td>NaN</td>\n      <td>NaN</td>\n      <td>NaN</td>\n      <td>NaN</td>\n      <td>NaN</td>\n      <td>NaN</td>\n      <td>NaN</td>\n      <td>Too long</td>\n      <td>Easy</td>\n      <td>NaN</td>\n    </tr>\n    <tr>\n      <th>...</th>\n      <td>...</td>\n      <td>...</td>\n      <td>...</td>\n      <td>...</td>\n      <td>...</td>\n      <td>...</td>\n      <td>...</td>\n      <td>...</td>\n      <td>...</td>\n      <td>...</td>\n      <td>...</td>\n      <td>...</td>\n      <td>...</td>\n      <td>...</td>\n      <td>...</td>\n      <td>...</td>\n      <td>...</td>\n      <td>...</td>\n      <td>...</td>\n      <td>...</td>\n      <td>...</td>\n    </tr>\n    <tr>\n      <th>73264</th>\n      <td>I am a developer by profession</td>\n      <td>Employed, full-time</td>\n      <td>Fully remote</td>\n      <td>Freelance/contract work</td>\n      <td>Bachelor’s degree (B.A., B.S., B.Eng., etc.)</td>\n      <td>Books / Physical media;Other online resources ...</td>\n      <td>Technical documentation;Blogs;Written Tutorial...</td>\n      <td>Udemy</td>\n      <td>8</td>\n      <td>5</td>\n      <td>...</td>\n      <td>30-60 minutes a day</td>\n      <td>Less than 15 minutes a day</td>\n      <td>Just right</td>\n      <td>DevOps function;Microservices;Developer portal...</td>\n      <td>Yes</td>\n      <td>Yes</td>\n      <td>Yes</td>\n      <td>Too long</td>\n      <td>Easy</td>\n      <td>NaN</td>\n    </tr>\n    <tr>\n      <th>73265</th>\n      <td>I am a developer by profession</td>\n      <td>Employed, full-time</td>\n      <td>Full in-person</td>\n      <td>Hobby</td>\n      <td>Master’s degree (M.A., M.S., M.Eng., MBA, etc.)</td>\n      <td>Other online resources (e.g., videos, blogs, f...</td>\n      <td>Technical documentation;Blogs;Written Tutorial...</td>\n      <td>Coursera;Udemy;Udacity</td>\n      <td>6</td>\n      <td>5</td>\n      <td>...</td>\n      <td>15-30 minutes a day</td>\n      <td>60-120 minutes a day</td>\n      <td>Very long</td>\n      <td>None of these</td>\n      <td>No</td>\n      <td>Yes</td>\n      <td>Yes</td>\n      <td>Too long</td>\n      <td>Easy</td>\n      <td>NaN</td>\n    </tr>\n    <tr>\n      <th>73266</th>\n      <td>I am not primarily a developer, but I write co...</td>\n      <td>Employed, full-time</td>\n      <td>Hybrid (some remote, some in-person)</td>\n      <td>Hobby;School or academic work</td>\n      <td>Bachelor’s degree (B.A., B.S., B.Eng., etc.)</td>\n      <td>Books / Physical media;Other online resources ...</td>\n      <td>Technical documentation;Programming Games;Stac...</td>\n      <td>Udemy;Codecademy;Pluralsight;edX</td>\n      <td>42</td>\n      <td>33</td>\n      <td>...</td>\n      <td>30-60 minutes a day</td>\n      <td>60-120 minutes a day</td>\n      <td>Just right</td>\n      <td>None of these</td>\n      <td>No</td>\n      <td>No</td>\n      <td>No</td>\n      <td>Appropriate in length</td>\n      <td>Easy</td>\n      <td>NaN</td>\n    </tr>\n    <tr>\n      <th>73267</th>\n      <td>I am a developer by profession</td>\n      <td>Employed, full-time</td>\n      <td>Hybrid (some remote, some in-person)</td>\n      <td>Hobby</td>\n      <td>Bachelor’s degree (B.A., B.S., B.Eng., etc.)</td>\n      <td>Books / Physical media;On the job training</td>\n      <td>NaN</td>\n      <td>NaN</td>\n      <td>50</td>\n      <td>31</td>\n      <td>...</td>\n      <td>NaN</td>\n      <td>NaN</td>\n      <td>NaN</td>\n      <td>NaN</td>\n      <td>NaN</td>\n      <td>NaN</td>\n      <td>NaN</td>\n      <td>Appropriate in length</td>\n      <td>Easy</td>\n      <td>NaN</td>\n    </tr>\n    <tr>\n      <th>73268</th>\n      <td>I used to be a developer by profession, but no...</td>\n      <td>Independent contractor, freelancer, or self-em...</td>\n      <td>Fully remote</td>\n      <td>Hobby;Contribute to open-source projects;Boots...</td>\n      <td>Bachelor’s degree (B.A., B.S., B.Eng., etc.)</td>\n      <td>Books / Physical media;Friend or family member...</td>\n      <td>Technical documentation;Blogs;Programming Game...</td>\n      <td>Udemy;Pluralsight</td>\n      <td>16</td>\n      <td>5</td>\n      <td>...</td>\n      <td>NaN</td>\n      <td>NaN</td>\n      <td>NaN</td>\n      <td>NaN</td>\n      <td>NaN</td>\n      <td>NaN</td>\n      <td>NaN</td>\n      <td>Appropriate in length</td>\n      <td>Easy</td>\n      <td>NaN</td>\n    </tr>\n  </tbody>\n</table>\n<p>73268 rows × 78 columns</p>\n</div>"
     },
     "execution_count": 1,
     "metadata": {},
     "output_type": "execute_result"
    }
   ],
   "source": [
    "import pandas as pd\n",
    "\n",
    "df = pd.read_csv('materiais de aula/survey_results_public.csv', index_col='ResponseId')\n",
    "df"
   ],
   "metadata": {
    "collapsed": false,
    "ExecuteTime": {
     "end_time": "2023-05-31T12:22:25.312272771Z",
     "start_time": "2023-05-31T12:22:24.086193952Z"
    }
   }
  },
  {
   "cell_type": "markdown",
   "source": [
    "Cada linha corresponde a uma resposta. As colunas representam as perguntas da pesquisa. A descrição completa de cada pergunta está no arquivo `survey_results_schema.csv`:"
   ],
   "metadata": {
    "collapsed": false
   }
  },
  {
   "cell_type": "code",
   "execution_count": 2,
   "outputs": [
    {
     "name": "stdout",
     "output_type": "stream",
     "text": [
      "S0 -> <div><span style=\"font-size:19px;\"><strong>Hello world! </strong></span></div>\n",
      "\n",
      "<div> </div>\n",
      "\n",
      "<div>Thank you for taking the 2022 Stack Overflow Developer Survey, the longest running survey of software developers (and anyone else who codes!) on Earth. </div>\n",
      "\n",
      "<div> </div>\n",
      "\n",
      "<div>As in previous years, anonymized results of the survey will be made publicly available under the Open Database License, where anyone can download and analyze the data. On that note, throughout the survey, certain answers you and your peers give will be treated as personally identifiable information, and therefore kept out of the anonymized results file. We'll call out each of those in the survey with a note saying \"This information will be kept private.\" </div>\n",
      "\n",
      "<div> </div>\n",
      "\n",
      "<div>There are seven sections in this survey. The 2nd, 3rd, and 4th sections will appear in a random order.</div><div><br></div>\n",
      "\n",
      "<div>   1. Basic Information</div>\n",
      "\n",
      "<div>   2. Education, Work, and Career</div>\n",
      "\n",
      "<div>   3. Technology and Tech Culture</div>\n",
      "\n",
      "<div>   4. Stack Overflow Usage + Community</div>\n",
      "\n",
      "<div>   5. Demographic Information </div>\n",
      "\n",
      "<div>   6. Professional Developer Series (Optional)</div><div>   7. Final Questions</div>\n",
      "\n",
      "<div> \n",
      "<div>Most questions in this survey are optional. Required questions are marked with *. This anonymous survey will take about 10 minutes to complete. We encourage you to complete it in one sitting.</div><div><br></div>\n",
      "</div>\n",
      "\n",
      "<div><strong>If you use security or ad-blocking plugins, you may see error messages</strong></div>\n",
      "\n",
      "<div>Our third-party software provider, Qualtrics, does not work well with certain ad blockers and security software. To avoid error messages that prevent you from taking the survey, please try specifically unblocking Qualtrics in your plugin or pausing the plugin while you take the survey. </div>\n",
      "\n",
      "<div> </div>\n",
      "\n",
      "<div>To begin, click <strong>Next.</strong></div>\n",
      "MetaInfo -> Browser Meta Info\n",
      "S1 -> <span style=\"font-size:22px; font-family: arial,helvetica,sans-serif; font-weight: 700;\">Basic Information</span><br>\n",
      "<br>\n",
      "<p><span style=\"font-size:16px; font-family:arial,helvetica,sans-serif;\">The first section will focus on some basic information about who you are.<br>\n",
      "<br>\n",
      "Most questions in this section are required. Required questions are noted with *.</span></p>\n",
      "MainBranch -> Which of the following options best describes you today? Here, by \"developer\" we mean \"someone who writes code.\" <b>*</b>\n",
      "Employment -> Which of the following best describes your current employment status?\n",
      "RemoteWork -> Which best describes your current work situation?\n",
      "CodingActivities -> Which of the following best describes the code you write outside of work? Select all that apply.\n",
      "S2 -> <span style=\"font-size:22px; font-family: arial,helvetica,sans-serif; font-weight: 700;\">Education, work, and career</span><br />\n",
      " \n",
      "<p><span style=\"font-size:16px; font-family:arial,helvetica,sans-serif;\">This section will focus on your education, work, and career.<br />\n",
      "<br />\n",
      "Most questions in this section are optional. Required questions are noted with *.</span></p>\n",
      "EdLevel -> Which of the following best describes the highest level of formal education that you’ve completed? *\n",
      "LearnCode -> How did you learn to code? Select all that apply.\n",
      "LearnCodeOnline -> What online resources do you use to learn to code? Select all that apply.\n",
      "LearnCodeCoursesCert -> What online courses or certifications do you use to learn to code? Select all that apply.\n",
      "YearsCode -> Including any education, how many years have you been coding in total?\n",
      "YearsCodePro -> NOT including education, how many years have you coded professionally (as a part of your work)?\n",
      "DevType -> Which of the following describes your current job? Please select all that apply.\n",
      "OrgSize -> Approximately how many people are employed by the company or organization you currently work for? \n",
      "PurchaseInfluence -> What level of influence do you, personally, have over new technology purchases at your organization?\n",
      "BuyNewTool -> When buying a new tool or software, how do you discover and research available solutions? Select all that apply.\n",
      "Country -> Where do you live? <span style=\"font-weight: bolder;\">*</span>\n",
      "Currency -> Which currency do you use day-to-day? If your answer is complicated, please pick the one you're most comfortable estimating in. *\n",
      "CompTotal -> What is your current total compensation (salary, bonuses, and perks, before taxes and deductions)? Please enter a whole number in the box below, without any punctuation.  If you are paid hourly, please estimate an equivalent weekly, monthly, or yearly salary. If you prefer not to answer, please leave the box empty.\n",
      "CompFreq -> Is that compensation weekly, monthly, or yearly?\n",
      "S3 -> <span style=\"font-size:22px; font-family: arial,helvetica,sans-serif; font-weight: 700;\">Tech and tech culture</span><br>\n",
      "<br>\n",
      "\n",
      "<p><span style=\"font-size:16px; font-family:arial,helvetica,sans-serif;\">The next set of questions will focus on technology and tech culture.<br>\n",
      "<br>\n",
      "Most questions in this section are optional. Required questions are noted with *.</span></p>\n",
      "Language -> Which <b>programming, scripting, and markup languages</b> have you done extensive development work in over the past year, and which do you want to work in over the next year? (If you both worked with the language and want to continue to do so, please check both boxes in that row.)\n",
      "Database -> Which <b>database environments </b>have you done extensive development work in over the past year, and which do you want to work in over the next year? (If you both worked with the database and want to continue to do so, please check both boxes in that row.)\n",
      "Platform -> Which <b>cloud platforms</b> have you done extensive development work in over the past year, and which do you want to work in over the next year? (If you both worked with the platform and want to continue to do so, please check both boxes in that row.)\n",
      "Webframe -> Which <b>web frameworks and web technologies</b> have you done extensive development work in over the past year, and which do you want to work in over the next year? (If you both worked with the framework and want to continue to do so, please check both boxes in that row.)\n",
      "MiscTech -> Which <b>other frameworks and libraries</b> have you done extensive development work in over the past year, and which do you want to work in over the next year? (If you both worked with the framework and want to continue to do so, please check both boxes in that row.)\n",
      "ToolsTech -> Which <b>developer </b><strong>tools</strong> have you done extensive development work in over the past year, and which do you want to work in over the next year? (If you both worked with the technology and want to continue to do so, please check both boxes in that row.)\n",
      "NEWCollabTools -> Which <strong>development environments</strong> did you use regularly over the past year, and which do you want to work with over the next year? Please check all that apply.\n",
      "OpSys -> What is the primary <b>operating system</b> in which you work? *\n",
      "VersionControlSystem -> What are the primary <b>version control systems</b> you use? Select all that apply.\n",
      "VCInteraction -> How do you interact with your version control system? Select all that apply.\n",
      "VCHosting -> What version control hosting service are you using?\n",
      "OfficeStackAsync -> Which <b>collaborative work management tools</b> did you use regularly over the past year, and which do you want to work with over the next year? Select all that apply\n",
      "OfficeStackSync -> Which <b>communication tools</b> did you use regularly over the past year, and which do you want to work with over the next year? Select all that apply\n",
      "Blockchain -> How favorable are you about blockchain, crypto, and decentralization?\n",
      "S4 -> <span style=\"font-size:22px; font-family: arial,helvetica,sans-serif; font-weight: 700;\">Stack Overflow - usage and community</span><br>\n",
      "<br>\n",
      "\n",
      "<p><span style=\"font-size:16px; font-family:arial,helvetica,sans-serif;\">This section will focus on Stack Overflow usage and community questions.<br>\n",
      "<br>\n",
      "Most questions in this section are optional. Required questions are noted with *.</span></p>\n",
      "NEWSOSites -> Which of the following Stack Overflow sites have you visited? Select all that apply.\n",
      "SOVisitFreq -> How frequently would you say you visit Stack Overflow?\n",
      "SOAccount -> Do you have a Stack Overflow account?\n",
      "SOPartFreq -> How frequently would you say you participate in Q&amp;A on Stack Overflow? By participate we mean ask, answer, vote for, or comment on questions.\n",
      "SOComm -> Do you consider yourself a member of the Stack Overflow community?\n",
      "S5 -> <span style=\"font-size:22px; font-family: arial,helvetica,sans-serif; font-weight: 700;\">Demographics</span><br>\n",
      "<br>\n",
      "\n",
      "<p><span style=\"font-size: 16px;\">All questions in this section are optional, you may leave questions blank if you prefer not to answer. </span></p><p><span style=\"font-size: 16px;\"><br></span></p><p><span style=\"font-size: 16px;\">As a reminder, all reporting of the survey responses will be anonymized.</span></p>\n",
      "Age -> What is your age?\n",
      "Gender -> Which of the following describe you, if any? Please check all that apply.\n",
      "Trans -> Do you identify as transgender?\n",
      "Sexuality -> Which of the following describe you, if any? Please check all that apply.\n",
      "Ethnicity -> Which of the following describe you, if any? Please check all that apply.\n",
      "Accessibility -> Which of the following describe you, if any? Please check all that apply. \n",
      "MentalHealth -> Which of the following describe you, if any? Please check all that apply. \n",
      "S6 -> <span style=\"font-size:22px; font-family: arial,helvetica,sans-serif; font-weight: 700;\">Professional Developer Series</span><br>\n",
      " \n",
      "<p><span style=\"font-size: 16px;\"></span></p>In one of our previous pulse surveys, we saw that people valued being productive and having growth opportunities at work*. By adding a <b>Professional Developer Series </b>to this year's survey we want to better understand the things that may impact your productivity and opportunities to learn. <br><br>Like the rest of the survey, your responses are completely anonymous.<p><span style=\"font-size: 16px;\"></span></p>\n",
      "\n",
      "<p> </p>\n",
      "\n",
      "<p><span style=\"font-size: 16px;\">Blog post - <a href=\"https://stackoverflow.blog/2021/12/07/new-data-what-developers-look-for-in-future-job-opportunities/\">New data: What developers look for in future job opportunities</a> - December 7, 2021</span></p>\n",
      "TBranch -> <span style=\"font-size:16px;\">Would you like to participate in the Professional Developer Series?</span>\n",
      "ICorPM -> Are you an independent contributor or people manager?\n",
      "WorkExp -> How many years of working experience do you have?\n",
      "Knowledge -> Please rate your level of agreement with the following statement:\n",
      "Frequency -> How frequently do you experience each of the following?\n",
      "TimeSearching -> On an average day, how much time do you typically spend searching for answers or solutions to problems you encounter at work? (This includes time spent searching on your own, asking a colleague, and waiting for a response).\n",
      "TimeAnswering -> On an average day, how much time do you typically spend answering questions you get asked at work?\n",
      "Onboarding -> The time it takes to onboard new hires at my company is:\n",
      "ProfessionalTech -> My company has:\n",
      "SOTeamsUsage -> Does your team use Stack Overflow for Teams?\n",
      "TrueFalse -> Last few questions...\n",
      "S7 -> <span style=\"font-size:22px;\"><strong>Final Questions</strong></span><div><br></div>\n",
      "SurveyLength -> How do you feel about the length of the survey this year?\n",
      "SurveyEase -> How easy or difficult was this survey to complete?\n",
      "Knowledge_1 -> I have interactions with people outside of my immediate team.\n",
      "Knowledge_2 -> Knowledge silos prevent me from getting ideas across the organization (i.e., one individual or team has information that isn't shared with others)\n",
      "Knowledge_3 -> I can find up-to-date information within my organization to help me do my job.\n",
      "Knowledge_4 -> I am able to quickly find answers to my questions with existing tools and resources.\n",
      "Knowledge_5 -> I know which system or resource to use to find information and answers to questions I have.\n",
      "Knowledge_6 -> I often find myself answering questions that I’ve already answered before.\n",
      "Knowledge_7 -> Waiting on answers to questions often causes interruptions and disrupts my workflow.\n",
      "Frequency_1 -> Needing help from people outside of your immediate team?\n",
      "Frequency_2 -> Interacting with people outside of your immediate team?\n",
      "Frequency_3 -> Encountering knowledge silos (where one individual or team has information that's not shared or distributed with other individuals or teams) at work?\n",
      "TrueFalse_1 -> Are you involved in supporting new hires during their onboarding?\n",
      "TrueFalse_2 -> Do you use learning resources provided by your employer?\n",
      "TrueFalse_3 -> Does your employer give you time to learn new skills?\n"
     ]
    }
   ],
   "source": [
    "perguntas = pd.read_csv('materiais de aula/survey_results_schema.csv', index_col='qid')\n",
    "for nome, desc in zip(perguntas['qname'], perguntas['question']):\n",
    "    print(f'{nome} -> {desc}')"
   ],
   "metadata": {
    "collapsed": false,
    "ExecuteTime": {
     "end_time": "2023-05-31T12:22:25.316639003Z",
     "start_time": "2023-05-31T12:22:25.311564321Z"
    }
   }
  },
  {
   "cell_type": "markdown",
   "source": [
    "Cada pergunta aparece como um HTML, então vamos limpá-las:"
   ],
   "metadata": {
    "collapsed": false
   }
  },
  {
   "cell_type": "code",
   "execution_count": 3,
   "outputs": [],
   "source": [
    "import re\n",
    "\n",
    "def remove_html(html):\n",
    "    pattern = re.compile('<.*?>')\n",
    "    cleantext = re.sub(pattern, '', html)\n",
    "    return cleantext.replace('*', '').strip()"
   ],
   "metadata": {
    "collapsed": false,
    "ExecuteTime": {
     "end_time": "2023-05-31T12:22:25.316889277Z",
     "start_time": "2023-05-31T12:22:25.314959299Z"
    }
   }
  },
  {
   "cell_type": "code",
   "execution_count": 4,
   "outputs": [
    {
     "name": "stdout",
     "output_type": "stream",
     "text": [
      "<div><a href=\"#\">Olá <br>mundo!<br></a></div>\n",
      "Olá mundo!\n"
     ]
    }
   ],
   "source": [
    "s = '<div><a href=\"#\">Olá <br>mundo!<br></a></div>'\n",
    "print(s)\n",
    "print(remove_html(s))"
   ],
   "metadata": {
    "collapsed": false,
    "ExecuteTime": {
     "end_time": "2023-05-31T12:22:25.319739158Z",
     "start_time": "2023-05-31T12:22:25.317948733Z"
    }
   }
  },
  {
   "cell_type": "code",
   "execution_count": 5,
   "outputs": [
    {
     "name": "stdout",
     "output_type": "stream",
     "text": [
      "S0 -> Hello world! \n",
      "\n",
      " \n",
      "\n",
      "Thank you for taking the 2022 Stack Overflow Developer Survey, the longest running survey of software developers (and anyone else who codes!) on Earth. \n",
      "\n",
      " \n",
      "\n",
      "As in previous years, anonymized results of the survey will be made publicly available under the Open Database License, where anyone can download and analyze the data. On that note, throughout the survey, certain answers you and your peers give will be treated as personally identifiable information, and therefore kept out of the anonymized results file. We'll call out each of those in the survey with a note saying \"This information will be kept private.\" \n",
      "\n",
      " \n",
      "\n",
      "There are seven sections in this survey. The 2nd, 3rd, and 4th sections will appear in a random order.\n",
      "\n",
      "   1. Basic Information\n",
      "\n",
      "   2. Education, Work, and Career\n",
      "\n",
      "   3. Technology and Tech Culture\n",
      "\n",
      "   4. Stack Overflow Usage + Community\n",
      "\n",
      "   5. Demographic Information \n",
      "\n",
      "   6. Professional Developer Series (Optional)   7. Final Questions\n",
      "\n",
      " \n",
      "Most questions in this survey are optional. Required questions are marked with . This anonymous survey will take about 10 minutes to complete. We encourage you to complete it in one sitting.\n",
      "\n",
      "\n",
      "If you use security or ad-blocking plugins, you may see error messages\n",
      "\n",
      "Our third-party software provider, Qualtrics, does not work well with certain ad blockers and security software. To avoid error messages that prevent you from taking the survey, please try specifically unblocking Qualtrics in your plugin or pausing the plugin while you take the survey. \n",
      "\n",
      " \n",
      "\n",
      "To begin, click Next.\n",
      "MetaInfo -> Browser Meta Info\n",
      "S1 -> Basic Information\n",
      "\n",
      "The first section will focus on some basic information about who you are.\n",
      "\n",
      "Most questions in this section are required. Required questions are noted with .\n",
      "MainBranch -> Which of the following options best describes you today? Here, by \"developer\" we mean \"someone who writes code.\"\n",
      "Employment -> Which of the following best describes your current employment status?\n",
      "RemoteWork -> Which best describes your current work situation?\n",
      "CodingActivities -> Which of the following best describes the code you write outside of work? Select all that apply.\n",
      "S2 -> Education, work, and career\n",
      " \n",
      "This section will focus on your education, work, and career.\n",
      "\n",
      "Most questions in this section are optional. Required questions are noted with .\n",
      "EdLevel -> Which of the following best describes the highest level of formal education that you’ve completed?\n",
      "LearnCode -> How did you learn to code? Select all that apply.\n",
      "LearnCodeOnline -> What online resources do you use to learn to code? Select all that apply.\n",
      "LearnCodeCoursesCert -> What online courses or certifications do you use to learn to code? Select all that apply.\n",
      "YearsCode -> Including any education, how many years have you been coding in total?\n",
      "YearsCodePro -> NOT including education, how many years have you coded professionally (as a part of your work)?\n",
      "DevType -> Which of the following describes your current job? Please select all that apply.\n",
      "OrgSize -> Approximately how many people are employed by the company or organization you currently work for?\n",
      "PurchaseInfluence -> What level of influence do you, personally, have over new technology purchases at your organization?\n",
      "BuyNewTool -> When buying a new tool or software, how do you discover and research available solutions? Select all that apply.\n",
      "Country -> Where do you live?\n",
      "Currency -> Which currency do you use day-to-day? If your answer is complicated, please pick the one you're most comfortable estimating in.\n",
      "CompTotal -> What is your current total compensation (salary, bonuses, and perks, before taxes and deductions)? Please enter a whole number in the box below, without any punctuation.  If you are paid hourly, please estimate an equivalent weekly, monthly, or yearly salary. If you prefer not to answer, please leave the box empty.\n",
      "CompFreq -> Is that compensation weekly, monthly, or yearly?\n",
      "S3 -> Tech and tech culture\n",
      "\n",
      "\n",
      "The next set of questions will focus on technology and tech culture.\n",
      "\n",
      "Most questions in this section are optional. Required questions are noted with .\n",
      "Language -> Which programming, scripting, and markup languages have you done extensive development work in over the past year, and which do you want to work in over the next year? (If you both worked with the language and want to continue to do so, please check both boxes in that row.)\n",
      "Database -> Which database environments have you done extensive development work in over the past year, and which do you want to work in over the next year? (If you both worked with the database and want to continue to do so, please check both boxes in that row.)\n",
      "Platform -> Which cloud platforms have you done extensive development work in over the past year, and which do you want to work in over the next year? (If you both worked with the platform and want to continue to do so, please check both boxes in that row.)\n",
      "Webframe -> Which web frameworks and web technologies have you done extensive development work in over the past year, and which do you want to work in over the next year? (If you both worked with the framework and want to continue to do so, please check both boxes in that row.)\n",
      "MiscTech -> Which other frameworks and libraries have you done extensive development work in over the past year, and which do you want to work in over the next year? (If you both worked with the framework and want to continue to do so, please check both boxes in that row.)\n",
      "ToolsTech -> Which developer tools have you done extensive development work in over the past year, and which do you want to work in over the next year? (If you both worked with the technology and want to continue to do so, please check both boxes in that row.)\n",
      "NEWCollabTools -> Which development environments did you use regularly over the past year, and which do you want to work with over the next year? Please check all that apply.\n",
      "OpSys -> What is the primary operating system in which you work?\n",
      "VersionControlSystem -> What are the primary version control systems you use? Select all that apply.\n",
      "VCInteraction -> How do you interact with your version control system? Select all that apply.\n",
      "VCHosting -> What version control hosting service are you using?\n",
      "OfficeStackAsync -> Which collaborative work management tools did you use regularly over the past year, and which do you want to work with over the next year? Select all that apply\n",
      "OfficeStackSync -> Which communication tools did you use regularly over the past year, and which do you want to work with over the next year? Select all that apply\n",
      "Blockchain -> How favorable are you about blockchain, crypto, and decentralization?\n",
      "S4 -> Stack Overflow - usage and community\n",
      "\n",
      "\n",
      "This section will focus on Stack Overflow usage and community questions.\n",
      "\n",
      "Most questions in this section are optional. Required questions are noted with .\n",
      "NEWSOSites -> Which of the following Stack Overflow sites have you visited? Select all that apply.\n",
      "SOVisitFreq -> How frequently would you say you visit Stack Overflow?\n",
      "SOAccount -> Do you have a Stack Overflow account?\n",
      "SOPartFreq -> How frequently would you say you participate in Q&amp;A on Stack Overflow? By participate we mean ask, answer, vote for, or comment on questions.\n",
      "SOComm -> Do you consider yourself a member of the Stack Overflow community?\n",
      "S5 -> Demographics\n",
      "\n",
      "\n",
      "All questions in this section are optional, you may leave questions blank if you prefer not to answer. As a reminder, all reporting of the survey responses will be anonymized.\n",
      "Age -> What is your age?\n",
      "Gender -> Which of the following describe you, if any? Please check all that apply.\n",
      "Trans -> Do you identify as transgender?\n",
      "Sexuality -> Which of the following describe you, if any? Please check all that apply.\n",
      "Ethnicity -> Which of the following describe you, if any? Please check all that apply.\n",
      "Accessibility -> Which of the following describe you, if any? Please check all that apply.\n",
      "MentalHealth -> Which of the following describe you, if any? Please check all that apply.\n",
      "S6 -> Professional Developer Series\n",
      " \n",
      "In one of our previous pulse surveys, we saw that people valued being productive and having growth opportunities at work. By adding a Professional Developer Series to this year's survey we want to better understand the things that may impact your productivity and opportunities to learn. Like the rest of the survey, your responses are completely anonymous.\n",
      "\n",
      " \n",
      "\n",
      "Blog post - New data: What developers look for in future job opportunities - December 7, 2021\n",
      "TBranch -> Would you like to participate in the Professional Developer Series?\n",
      "ICorPM -> Are you an independent contributor or people manager?\n",
      "WorkExp -> How many years of working experience do you have?\n",
      "Knowledge -> Please rate your level of agreement with the following statement:\n",
      "Frequency -> How frequently do you experience each of the following?\n",
      "TimeSearching -> On an average day, how much time do you typically spend searching for answers or solutions to problems you encounter at work? (This includes time spent searching on your own, asking a colleague, and waiting for a response).\n",
      "TimeAnswering -> On an average day, how much time do you typically spend answering questions you get asked at work?\n",
      "Onboarding -> The time it takes to onboard new hires at my company is:\n",
      "ProfessionalTech -> My company has:\n",
      "SOTeamsUsage -> Does your team use Stack Overflow for Teams?\n",
      "TrueFalse -> Last few questions...\n",
      "S7 -> Final Questions\n",
      "SurveyLength -> How do you feel about the length of the survey this year?\n",
      "SurveyEase -> How easy or difficult was this survey to complete?\n",
      "Knowledge_1 -> I have interactions with people outside of my immediate team.\n",
      "Knowledge_2 -> Knowledge silos prevent me from getting ideas across the organization (i.e., one individual or team has information that isn't shared with others)\n",
      "Knowledge_3 -> I can find up-to-date information within my organization to help me do my job.\n",
      "Knowledge_4 -> I am able to quickly find answers to my questions with existing tools and resources.\n",
      "Knowledge_5 -> I know which system or resource to use to find information and answers to questions I have.\n",
      "Knowledge_6 -> I often find myself answering questions that I’ve already answered before.\n",
      "Knowledge_7 -> Waiting on answers to questions often causes interruptions and disrupts my workflow.\n",
      "Frequency_1 -> Needing help from people outside of your immediate team?\n",
      "Frequency_2 -> Interacting with people outside of your immediate team?\n",
      "Frequency_3 -> Encountering knowledge silos (where one individual or team has information that's not shared or distributed with other individuals or teams) at work?\n",
      "TrueFalse_1 -> Are you involved in supporting new hires during their onboarding?\n",
      "TrueFalse_2 -> Do you use learning resources provided by your employer?\n",
      "TrueFalse_3 -> Does your employer give you time to learn new skills?\n"
     ]
    }
   ],
   "source": [
    "for nome, desc in zip(perguntas['qname'], perguntas['question']):\n",
    "    desc_limpa = remove_html(desc)\n",
    "    print(f'{nome} -> {desc_limpa}')"
   ],
   "metadata": {
    "collapsed": false,
    "ExecuteTime": {
     "end_time": "2023-05-31T12:22:25.389434208Z",
     "start_time": "2023-05-31T12:22:25.322984114Z"
    }
   }
  },
  {
   "cell_type": "markdown",
   "source": [
    "Agora sabemos o que significa cada uma das perguntas. Vamos começar a explorar os dados!"
   ],
   "metadata": {
    "collapsed": false
   }
  },
  {
   "cell_type": "code",
   "execution_count": null,
   "outputs": [],
   "source": [],
   "metadata": {
    "collapsed": false
   }
  }
 ],
 "metadata": {
  "kernelspec": {
   "display_name": "Python 3",
   "language": "python",
   "name": "python3"
  },
  "language_info": {
   "codemirror_mode": {
    "name": "ipython",
    "version": 2
   },
   "file_extension": ".py",
   "mimetype": "text/x-python",
   "name": "python",
   "nbconvert_exporter": "python",
   "pygments_lexer": "ipython2",
   "version": "2.7.6"
  }
 },
 "nbformat": 4,
 "nbformat_minor": 0
}
