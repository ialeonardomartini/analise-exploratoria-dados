{
 "cells": [
  {
   "cell_type": "markdown",
   "source": [
    "# Explorando valores numéricos\n",
    "\n",
    "## Objetivo: Selecionar valores numéricos e aprender a visualizar informações básicas.\n"
   ],
   "metadata": {
    "collapsed": false
   }
  },
  {
   "cell_type": "code",
   "execution_count": 1,
   "outputs": [
    {
     "data": {
      "text/plain": "                                                   MainBranch   \nResponseId                                                      \n1                                               None of these  \\\n2                              I am a developer by profession   \n3           I am not primarily a developer, but I write co...   \n4                              I am a developer by profession   \n5                              I am a developer by profession   \n...                                                       ...   \n73264                          I am a developer by profession   \n73265                          I am a developer by profession   \n73266       I am not primarily a developer, but I write co...   \n73267                          I am a developer by profession   \n73268       I used to be a developer by profession, but no...   \n\n                                                   Employment   \nResponseId                                                      \n1                                                         NaN  \\\n2                                         Employed, full-time   \n3                                         Employed, full-time   \n4                                         Employed, full-time   \n5                                         Employed, full-time   \n...                                                       ...   \n73264                                     Employed, full-time   \n73265                                     Employed, full-time   \n73266                                     Employed, full-time   \n73267                                     Employed, full-time   \n73268       Independent contractor, freelancer, or self-em...   \n\n                                      RemoteWork   \nResponseId                                         \n1                                            NaN  \\\n2                                   Fully remote   \n3           Hybrid (some remote, some in-person)   \n4                                   Fully remote   \n5           Hybrid (some remote, some in-person)   \n...                                          ...   \n73264                               Fully remote   \n73265                             Full in-person   \n73266       Hybrid (some remote, some in-person)   \n73267       Hybrid (some remote, some in-person)   \n73268                               Fully remote   \n\n                                             CodingActivities   \nResponseId                                                      \n1                                                         NaN  \\\n2                    Hobby;Contribute to open-source projects   \n3                                                       Hobby   \n4                                I don’t code outside of work   \n5                                                       Hobby   \n...                                                       ...   \n73264                                 Freelance/contract work   \n73265                                                   Hobby   \n73266                           Hobby;School or academic work   \n73267                                                   Hobby   \n73268       Hobby;Contribute to open-source projects;Boots...   \n\n                                                    EdLevel   \nResponseId                                                    \n1                                                       NaN  \\\n2                                                       NaN   \n3           Master’s degree (M.A., M.S., M.Eng., MBA, etc.)   \n4              Bachelor’s degree (B.A., B.S., B.Eng., etc.)   \n5              Bachelor’s degree (B.A., B.S., B.Eng., etc.)   \n...                                                     ...   \n73264          Bachelor’s degree (B.A., B.S., B.Eng., etc.)   \n73265       Master’s degree (M.A., M.S., M.Eng., MBA, etc.)   \n73266          Bachelor’s degree (B.A., B.S., B.Eng., etc.)   \n73267          Bachelor’s degree (B.A., B.S., B.Eng., etc.)   \n73268          Bachelor’s degree (B.A., B.S., B.Eng., etc.)   \n\n                                                    LearnCode   \nResponseId                                                      \n1                                                         NaN  \\\n2                                                         NaN   \n3           Books / Physical media;Friend or family member...   \n4           Books / Physical media;School (i.e., Universit...   \n5           Other online resources (e.g., videos, blogs, f...   \n...                                                       ...   \n73264       Books / Physical media;Other online resources ...   \n73265       Other online resources (e.g., videos, blogs, f...   \n73266       Books / Physical media;Other online resources ...   \n73267              Books / Physical media;On the job training   \n73268       Books / Physical media;Friend or family member...   \n\n                                              LearnCodeOnline   \nResponseId                                                      \n1                                                         NaN  \\\n2                                                         NaN   \n3           Technical documentation;Blogs;Programming Game...   \n4                                                         NaN   \n5           Technical documentation;Blogs;Stack Overflow;O...   \n...                                                       ...   \n73264       Technical documentation;Blogs;Written Tutorial...   \n73265       Technical documentation;Blogs;Written Tutorial...   \n73266       Technical documentation;Programming Games;Stac...   \n73267                                                     NaN   \n73268       Technical documentation;Blogs;Programming Game...   \n\n                        LearnCodeCoursesCert YearsCode YearsCodePro  ...   \nResponseId                                                           ...   \n1                                        NaN       NaN          NaN  ...  \\\n2                                        NaN       NaN          NaN  ...   \n3                                        NaN        14            5  ...   \n4                                        NaN        20           17  ...   \n5                                        NaN         8            3  ...   \n...                                      ...       ...          ...  ...   \n73264                                  Udemy         8            5  ...   \n73265                 Coursera;Udemy;Udacity         6            5  ...   \n73266       Udemy;Codecademy;Pluralsight;edX        42           33  ...   \n73267                                    NaN        50           31  ...   \n73268                      Udemy;Pluralsight        16            5  ...   \n\n                  TimeSearching               TimeAnswering  Onboarding   \nResponseId                                                                \n1                           NaN                         NaN         NaN  \\\n2                           NaN                         NaN         NaN   \n3                           NaN                         NaN         NaN   \n4                           NaN                         NaN         NaN   \n5                           NaN                         NaN         NaN   \n...                         ...                         ...         ...   \n73264       30-60 minutes a day  Less than 15 minutes a day  Just right   \n73265       15-30 minutes a day        60-120 minutes a day   Very long   \n73266       30-60 minutes a day        60-120 minutes a day  Just right   \n73267                       NaN                         NaN         NaN   \n73268                       NaN                         NaN         NaN   \n\n                                             ProfessionalTech TrueFalse_1   \nResponseId                                                                  \n1                                                         NaN         NaN  \\\n2                                                         NaN         NaN   \n3                                                         NaN         NaN   \n4                                                         NaN         NaN   \n5                                                         NaN         NaN   \n...                                                       ...         ...   \n73264       DevOps function;Microservices;Developer portal...         Yes   \n73265                                           None of these          No   \n73266                                           None of these          No   \n73267                                                     NaN         NaN   \n73268                                                     NaN         NaN   \n\n           TrueFalse_2  TrueFalse_3           SurveyLength   \nResponseId                                                   \n1                  NaN          NaN                    NaN  \\\n2                  NaN          NaN               Too long   \n3                  NaN          NaN  Appropriate in length   \n4                  NaN          NaN  Appropriate in length   \n5                  NaN          NaN               Too long   \n...                ...          ...                    ...   \n73264              Yes          Yes               Too long   \n73265              Yes          Yes               Too long   \n73266               No           No  Appropriate in length   \n73267              NaN          NaN  Appropriate in length   \n73268              NaN          NaN  Appropriate in length   \n\n                            SurveyEase ConvertedCompYearly  \nResponseId                                                  \n1                                  NaN                 NaN  \n2                            Difficult                 NaN  \n3           Neither easy nor difficult             40205.0  \n4                                 Easy            215232.0  \n5                                 Easy                 NaN  \n...                                ...                 ...  \n73264                             Easy                 NaN  \n73265                             Easy                 NaN  \n73266                             Easy                 NaN  \n73267                             Easy                 NaN  \n73268                             Easy                 NaN  \n\n[73268 rows x 78 columns]",
      "text/html": "<div>\n<style scoped>\n    .dataframe tbody tr th:only-of-type {\n        vertical-align: middle;\n    }\n\n    .dataframe tbody tr th {\n        vertical-align: top;\n    }\n\n    .dataframe thead th {\n        text-align: right;\n    }\n</style>\n<table border=\"1\" class=\"dataframe\">\n  <thead>\n    <tr style=\"text-align: right;\">\n      <th></th>\n      <th>MainBranch</th>\n      <th>Employment</th>\n      <th>RemoteWork</th>\n      <th>CodingActivities</th>\n      <th>EdLevel</th>\n      <th>LearnCode</th>\n      <th>LearnCodeOnline</th>\n      <th>LearnCodeCoursesCert</th>\n      <th>YearsCode</th>\n      <th>YearsCodePro</th>\n      <th>...</th>\n      <th>TimeSearching</th>\n      <th>TimeAnswering</th>\n      <th>Onboarding</th>\n      <th>ProfessionalTech</th>\n      <th>TrueFalse_1</th>\n      <th>TrueFalse_2</th>\n      <th>TrueFalse_3</th>\n      <th>SurveyLength</th>\n      <th>SurveyEase</th>\n      <th>ConvertedCompYearly</th>\n    </tr>\n    <tr>\n      <th>ResponseId</th>\n      <th></th>\n      <th></th>\n      <th></th>\n      <th></th>\n      <th></th>\n      <th></th>\n      <th></th>\n      <th></th>\n      <th></th>\n      <th></th>\n      <th></th>\n      <th></th>\n      <th></th>\n      <th></th>\n      <th></th>\n      <th></th>\n      <th></th>\n      <th></th>\n      <th></th>\n      <th></th>\n      <th></th>\n    </tr>\n  </thead>\n  <tbody>\n    <tr>\n      <th>1</th>\n      <td>None of these</td>\n      <td>NaN</td>\n      <td>NaN</td>\n      <td>NaN</td>\n      <td>NaN</td>\n      <td>NaN</td>\n      <td>NaN</td>\n      <td>NaN</td>\n      <td>NaN</td>\n      <td>NaN</td>\n      <td>...</td>\n      <td>NaN</td>\n      <td>NaN</td>\n      <td>NaN</td>\n      <td>NaN</td>\n      <td>NaN</td>\n      <td>NaN</td>\n      <td>NaN</td>\n      <td>NaN</td>\n      <td>NaN</td>\n      <td>NaN</td>\n    </tr>\n    <tr>\n      <th>2</th>\n      <td>I am a developer by profession</td>\n      <td>Employed, full-time</td>\n      <td>Fully remote</td>\n      <td>Hobby;Contribute to open-source projects</td>\n      <td>NaN</td>\n      <td>NaN</td>\n      <td>NaN</td>\n      <td>NaN</td>\n      <td>NaN</td>\n      <td>NaN</td>\n      <td>...</td>\n      <td>NaN</td>\n      <td>NaN</td>\n      <td>NaN</td>\n      <td>NaN</td>\n      <td>NaN</td>\n      <td>NaN</td>\n      <td>NaN</td>\n      <td>Too long</td>\n      <td>Difficult</td>\n      <td>NaN</td>\n    </tr>\n    <tr>\n      <th>3</th>\n      <td>I am not primarily a developer, but I write co...</td>\n      <td>Employed, full-time</td>\n      <td>Hybrid (some remote, some in-person)</td>\n      <td>Hobby</td>\n      <td>Master’s degree (M.A., M.S., M.Eng., MBA, etc.)</td>\n      <td>Books / Physical media;Friend or family member...</td>\n      <td>Technical documentation;Blogs;Programming Game...</td>\n      <td>NaN</td>\n      <td>14</td>\n      <td>5</td>\n      <td>...</td>\n      <td>NaN</td>\n      <td>NaN</td>\n      <td>NaN</td>\n      <td>NaN</td>\n      <td>NaN</td>\n      <td>NaN</td>\n      <td>NaN</td>\n      <td>Appropriate in length</td>\n      <td>Neither easy nor difficult</td>\n      <td>40205.0</td>\n    </tr>\n    <tr>\n      <th>4</th>\n      <td>I am a developer by profession</td>\n      <td>Employed, full-time</td>\n      <td>Fully remote</td>\n      <td>I don’t code outside of work</td>\n      <td>Bachelor’s degree (B.A., B.S., B.Eng., etc.)</td>\n      <td>Books / Physical media;School (i.e., Universit...</td>\n      <td>NaN</td>\n      <td>NaN</td>\n      <td>20</td>\n      <td>17</td>\n      <td>...</td>\n      <td>NaN</td>\n      <td>NaN</td>\n      <td>NaN</td>\n      <td>NaN</td>\n      <td>NaN</td>\n      <td>NaN</td>\n      <td>NaN</td>\n      <td>Appropriate in length</td>\n      <td>Easy</td>\n      <td>215232.0</td>\n    </tr>\n    <tr>\n      <th>5</th>\n      <td>I am a developer by profession</td>\n      <td>Employed, full-time</td>\n      <td>Hybrid (some remote, some in-person)</td>\n      <td>Hobby</td>\n      <td>Bachelor’s degree (B.A., B.S., B.Eng., etc.)</td>\n      <td>Other online resources (e.g., videos, blogs, f...</td>\n      <td>Technical documentation;Blogs;Stack Overflow;O...</td>\n      <td>NaN</td>\n      <td>8</td>\n      <td>3</td>\n      <td>...</td>\n      <td>NaN</td>\n      <td>NaN</td>\n      <td>NaN</td>\n      <td>NaN</td>\n      <td>NaN</td>\n      <td>NaN</td>\n      <td>NaN</td>\n      <td>Too long</td>\n      <td>Easy</td>\n      <td>NaN</td>\n    </tr>\n    <tr>\n      <th>...</th>\n      <td>...</td>\n      <td>...</td>\n      <td>...</td>\n      <td>...</td>\n      <td>...</td>\n      <td>...</td>\n      <td>...</td>\n      <td>...</td>\n      <td>...</td>\n      <td>...</td>\n      <td>...</td>\n      <td>...</td>\n      <td>...</td>\n      <td>...</td>\n      <td>...</td>\n      <td>...</td>\n      <td>...</td>\n      <td>...</td>\n      <td>...</td>\n      <td>...</td>\n      <td>...</td>\n    </tr>\n    <tr>\n      <th>73264</th>\n      <td>I am a developer by profession</td>\n      <td>Employed, full-time</td>\n      <td>Fully remote</td>\n      <td>Freelance/contract work</td>\n      <td>Bachelor’s degree (B.A., B.S., B.Eng., etc.)</td>\n      <td>Books / Physical media;Other online resources ...</td>\n      <td>Technical documentation;Blogs;Written Tutorial...</td>\n      <td>Udemy</td>\n      <td>8</td>\n      <td>5</td>\n      <td>...</td>\n      <td>30-60 minutes a day</td>\n      <td>Less than 15 minutes a day</td>\n      <td>Just right</td>\n      <td>DevOps function;Microservices;Developer portal...</td>\n      <td>Yes</td>\n      <td>Yes</td>\n      <td>Yes</td>\n      <td>Too long</td>\n      <td>Easy</td>\n      <td>NaN</td>\n    </tr>\n    <tr>\n      <th>73265</th>\n      <td>I am a developer by profession</td>\n      <td>Employed, full-time</td>\n      <td>Full in-person</td>\n      <td>Hobby</td>\n      <td>Master’s degree (M.A., M.S., M.Eng., MBA, etc.)</td>\n      <td>Other online resources (e.g., videos, blogs, f...</td>\n      <td>Technical documentation;Blogs;Written Tutorial...</td>\n      <td>Coursera;Udemy;Udacity</td>\n      <td>6</td>\n      <td>5</td>\n      <td>...</td>\n      <td>15-30 minutes a day</td>\n      <td>60-120 minutes a day</td>\n      <td>Very long</td>\n      <td>None of these</td>\n      <td>No</td>\n      <td>Yes</td>\n      <td>Yes</td>\n      <td>Too long</td>\n      <td>Easy</td>\n      <td>NaN</td>\n    </tr>\n    <tr>\n      <th>73266</th>\n      <td>I am not primarily a developer, but I write co...</td>\n      <td>Employed, full-time</td>\n      <td>Hybrid (some remote, some in-person)</td>\n      <td>Hobby;School or academic work</td>\n      <td>Bachelor’s degree (B.A., B.S., B.Eng., etc.)</td>\n      <td>Books / Physical media;Other online resources ...</td>\n      <td>Technical documentation;Programming Games;Stac...</td>\n      <td>Udemy;Codecademy;Pluralsight;edX</td>\n      <td>42</td>\n      <td>33</td>\n      <td>...</td>\n      <td>30-60 minutes a day</td>\n      <td>60-120 minutes a day</td>\n      <td>Just right</td>\n      <td>None of these</td>\n      <td>No</td>\n      <td>No</td>\n      <td>No</td>\n      <td>Appropriate in length</td>\n      <td>Easy</td>\n      <td>NaN</td>\n    </tr>\n    <tr>\n      <th>73267</th>\n      <td>I am a developer by profession</td>\n      <td>Employed, full-time</td>\n      <td>Hybrid (some remote, some in-person)</td>\n      <td>Hobby</td>\n      <td>Bachelor’s degree (B.A., B.S., B.Eng., etc.)</td>\n      <td>Books / Physical media;On the job training</td>\n      <td>NaN</td>\n      <td>NaN</td>\n      <td>50</td>\n      <td>31</td>\n      <td>...</td>\n      <td>NaN</td>\n      <td>NaN</td>\n      <td>NaN</td>\n      <td>NaN</td>\n      <td>NaN</td>\n      <td>NaN</td>\n      <td>NaN</td>\n      <td>Appropriate in length</td>\n      <td>Easy</td>\n      <td>NaN</td>\n    </tr>\n    <tr>\n      <th>73268</th>\n      <td>I used to be a developer by profession, but no...</td>\n      <td>Independent contractor, freelancer, or self-em...</td>\n      <td>Fully remote</td>\n      <td>Hobby;Contribute to open-source projects;Boots...</td>\n      <td>Bachelor’s degree (B.A., B.S., B.Eng., etc.)</td>\n      <td>Books / Physical media;Friend or family member...</td>\n      <td>Technical documentation;Blogs;Programming Game...</td>\n      <td>Udemy;Pluralsight</td>\n      <td>16</td>\n      <td>5</td>\n      <td>...</td>\n      <td>NaN</td>\n      <td>NaN</td>\n      <td>NaN</td>\n      <td>NaN</td>\n      <td>NaN</td>\n      <td>NaN</td>\n      <td>NaN</td>\n      <td>Appropriate in length</td>\n      <td>Easy</td>\n      <td>NaN</td>\n    </tr>\n  </tbody>\n</table>\n<p>73268 rows × 78 columns</p>\n</div>"
     },
     "execution_count": 1,
     "metadata": {},
     "output_type": "execute_result"
    }
   ],
   "source": [
    "import pandas as pd\n",
    "\n",
    "df = pd.read_csv('materiais de aula/survey_results_public.csv', index_col='ResponseId')\n",
    "df"
   ],
   "metadata": {
    "collapsed": false,
    "ExecuteTime": {
     "end_time": "2023-06-02T13:41:22.503818789Z",
     "start_time": "2023-06-02T13:41:21.596323965Z"
    }
   }
  },
  {
   "cell_type": "markdown",
   "source": [
    "### Selecionando colunas de um tipo de dado\n",
    "\n",
    "Para pegar apenas as colunas de um determinado tipo de dado, podemos usar:"
   ],
   "metadata": {
    "collapsed": false
   }
  },
  {
   "cell_type": "code",
   "execution_count": 6,
   "outputs": [
    {
     "data": {
      "text/plain": "            CompTotal  VCHostingPersonal use  VCHostingProfessional use   \nResponseId                                                                \n1                 NaN                    NaN                        NaN  \\\n2                 NaN                    NaN                        NaN   \n3             32000.0                    NaN                        NaN   \n4             60000.0                    NaN                        NaN   \n5                 NaN                    NaN                        NaN   \n...               ...                    ...                        ...   \n73264         60000.0                    NaN                        NaN   \n73265        107000.0                    NaN                        NaN   \n73266             NaN                    NaN                        NaN   \n73267         58500.0                    NaN                        NaN   \n73268             NaN                    NaN                        NaN   \n\n            WorkExp  ConvertedCompYearly  \nResponseId                                \n1               NaN                  NaN  \n2               NaN                  NaN  \n3               NaN              40205.0  \n4               NaN             215232.0  \n5               NaN                  NaN  \n...             ...                  ...  \n73264           5.0                  NaN  \n73265           6.0                  NaN  \n73266          42.0                  NaN  \n73267           NaN                  NaN  \n73268           NaN                  NaN  \n\n[73268 rows x 5 columns]",
      "text/html": "<div>\n<style scoped>\n    .dataframe tbody tr th:only-of-type {\n        vertical-align: middle;\n    }\n\n    .dataframe tbody tr th {\n        vertical-align: top;\n    }\n\n    .dataframe thead th {\n        text-align: right;\n    }\n</style>\n<table border=\"1\" class=\"dataframe\">\n  <thead>\n    <tr style=\"text-align: right;\">\n      <th></th>\n      <th>CompTotal</th>\n      <th>VCHostingPersonal use</th>\n      <th>VCHostingProfessional use</th>\n      <th>WorkExp</th>\n      <th>ConvertedCompYearly</th>\n    </tr>\n    <tr>\n      <th>ResponseId</th>\n      <th></th>\n      <th></th>\n      <th></th>\n      <th></th>\n      <th></th>\n    </tr>\n  </thead>\n  <tbody>\n    <tr>\n      <th>1</th>\n      <td>NaN</td>\n      <td>NaN</td>\n      <td>NaN</td>\n      <td>NaN</td>\n      <td>NaN</td>\n    </tr>\n    <tr>\n      <th>2</th>\n      <td>NaN</td>\n      <td>NaN</td>\n      <td>NaN</td>\n      <td>NaN</td>\n      <td>NaN</td>\n    </tr>\n    <tr>\n      <th>3</th>\n      <td>32000.0</td>\n      <td>NaN</td>\n      <td>NaN</td>\n      <td>NaN</td>\n      <td>40205.0</td>\n    </tr>\n    <tr>\n      <th>4</th>\n      <td>60000.0</td>\n      <td>NaN</td>\n      <td>NaN</td>\n      <td>NaN</td>\n      <td>215232.0</td>\n    </tr>\n    <tr>\n      <th>5</th>\n      <td>NaN</td>\n      <td>NaN</td>\n      <td>NaN</td>\n      <td>NaN</td>\n      <td>NaN</td>\n    </tr>\n    <tr>\n      <th>...</th>\n      <td>...</td>\n      <td>...</td>\n      <td>...</td>\n      <td>...</td>\n      <td>...</td>\n    </tr>\n    <tr>\n      <th>73264</th>\n      <td>60000.0</td>\n      <td>NaN</td>\n      <td>NaN</td>\n      <td>5.0</td>\n      <td>NaN</td>\n    </tr>\n    <tr>\n      <th>73265</th>\n      <td>107000.0</td>\n      <td>NaN</td>\n      <td>NaN</td>\n      <td>6.0</td>\n      <td>NaN</td>\n    </tr>\n    <tr>\n      <th>73266</th>\n      <td>NaN</td>\n      <td>NaN</td>\n      <td>NaN</td>\n      <td>42.0</td>\n      <td>NaN</td>\n    </tr>\n    <tr>\n      <th>73267</th>\n      <td>58500.0</td>\n      <td>NaN</td>\n      <td>NaN</td>\n      <td>NaN</td>\n      <td>NaN</td>\n    </tr>\n    <tr>\n      <th>73268</th>\n      <td>NaN</td>\n      <td>NaN</td>\n      <td>NaN</td>\n      <td>NaN</td>\n      <td>NaN</td>\n    </tr>\n  </tbody>\n</table>\n<p>73268 rows × 5 columns</p>\n</div>"
     },
     "execution_count": 6,
     "metadata": {},
     "output_type": "execute_result"
    }
   ],
   "source": [
    "df.select_dtypes('float')"
   ],
   "metadata": {
    "collapsed": false,
    "ExecuteTime": {
     "end_time": "2023-05-31T12:27:19.460254171Z",
     "start_time": "2023-05-31T12:27:19.452319153Z"
    }
   }
  },
  {
   "cell_type": "markdown",
   "source": [
    "Note que apenas as colunas com tipo de dado `float` foram selecionadas.\n",
    "\n",
    "**Atenção**: esse método distingue `int` de `float`!"
   ],
   "metadata": {
    "collapsed": false
   }
  },
  {
   "cell_type": "code",
   "execution_count": 2,
   "outputs": [
    {
     "data": {
      "text/plain": "Empty DataFrame\nColumns: []\nIndex: [1, 2, 3, 4, 5, 6, 7, 8, 9, 10, 11, 12, 13, 14, 15, 16, 17, 18, 19, 20, 21, 22, 23, 24, 25, 26, 27, 28, 29, 30, 31, 32, 33, 34, 35, 36, 37, 38, 39, 40, 41, 42, 43, 44, 45, 46, 47, 48, 49, 50, 51, 52, 53, 54, 55, 56, 57, 58, 59, 60, 61, 62, 63, 64, 65, 66, 67, 68, 69, 70, 71, 72, 73, 74, 75, 76, 77, 78, 79, 80, 81, 82, 83, 84, 85, 86, 87, 88, 89, 90, 91, 92, 93, 94, 95, 96, 97, 98, 99, 100, ...]\n\n[73268 rows x 0 columns]",
      "text/html": "<div>\n<style scoped>\n    .dataframe tbody tr th:only-of-type {\n        vertical-align: middle;\n    }\n\n    .dataframe tbody tr th {\n        vertical-align: top;\n    }\n\n    .dataframe thead th {\n        text-align: right;\n    }\n</style>\n<table border=\"1\" class=\"dataframe\">\n  <thead>\n    <tr style=\"text-align: right;\">\n      <th></th>\n    </tr>\n    <tr>\n      <th>ResponseId</th>\n    </tr>\n  </thead>\n  <tbody>\n    <tr>\n      <th>1</th>\n    </tr>\n    <tr>\n      <th>2</th>\n    </tr>\n    <tr>\n      <th>3</th>\n    </tr>\n    <tr>\n      <th>4</th>\n    </tr>\n    <tr>\n      <th>5</th>\n    </tr>\n    <tr>\n      <th>...</th>\n    </tr>\n    <tr>\n      <th>73264</th>\n    </tr>\n    <tr>\n      <th>73265</th>\n    </tr>\n    <tr>\n      <th>73266</th>\n    </tr>\n    <tr>\n      <th>73267</th>\n    </tr>\n    <tr>\n      <th>73268</th>\n    </tr>\n  </tbody>\n</table>\n<p>73268 rows × 0 columns</p>\n</div>"
     },
     "execution_count": 2,
     "metadata": {},
     "output_type": "execute_result"
    }
   ],
   "source": [
    "df.select_dtypes('int')"
   ],
   "metadata": {
    "collapsed": false,
    "ExecuteTime": {
     "end_time": "2023-06-02T13:42:06.300744590Z",
     "start_time": "2023-06-02T13:42:06.255087369Z"
    }
   }
  },
  {
   "cell_type": "markdown",
   "source": [
    "Para selecionar todas as colunas numéricas, utilize `number`:"
   ],
   "metadata": {
    "collapsed": false
   }
  },
  {
   "cell_type": "code",
   "execution_count": 3,
   "outputs": [
    {
     "data": {
      "text/plain": "            CompTotal  VCHostingPersonal use  VCHostingProfessional use   \nResponseId                                                                \n1                 NaN                    NaN                        NaN  \\\n2                 NaN                    NaN                        NaN   \n3             32000.0                    NaN                        NaN   \n4             60000.0                    NaN                        NaN   \n5                 NaN                    NaN                        NaN   \n...               ...                    ...                        ...   \n73264         60000.0                    NaN                        NaN   \n73265        107000.0                    NaN                        NaN   \n73266             NaN                    NaN                        NaN   \n73267         58500.0                    NaN                        NaN   \n73268             NaN                    NaN                        NaN   \n\n            WorkExp  ConvertedCompYearly  \nResponseId                                \n1               NaN                  NaN  \n2               NaN                  NaN  \n3               NaN              40205.0  \n4               NaN             215232.0  \n5               NaN                  NaN  \n...             ...                  ...  \n73264           5.0                  NaN  \n73265           6.0                  NaN  \n73266          42.0                  NaN  \n73267           NaN                  NaN  \n73268           NaN                  NaN  \n\n[73268 rows x 5 columns]",
      "text/html": "<div>\n<style scoped>\n    .dataframe tbody tr th:only-of-type {\n        vertical-align: middle;\n    }\n\n    .dataframe tbody tr th {\n        vertical-align: top;\n    }\n\n    .dataframe thead th {\n        text-align: right;\n    }\n</style>\n<table border=\"1\" class=\"dataframe\">\n  <thead>\n    <tr style=\"text-align: right;\">\n      <th></th>\n      <th>CompTotal</th>\n      <th>VCHostingPersonal use</th>\n      <th>VCHostingProfessional use</th>\n      <th>WorkExp</th>\n      <th>ConvertedCompYearly</th>\n    </tr>\n    <tr>\n      <th>ResponseId</th>\n      <th></th>\n      <th></th>\n      <th></th>\n      <th></th>\n      <th></th>\n    </tr>\n  </thead>\n  <tbody>\n    <tr>\n      <th>1</th>\n      <td>NaN</td>\n      <td>NaN</td>\n      <td>NaN</td>\n      <td>NaN</td>\n      <td>NaN</td>\n    </tr>\n    <tr>\n      <th>2</th>\n      <td>NaN</td>\n      <td>NaN</td>\n      <td>NaN</td>\n      <td>NaN</td>\n      <td>NaN</td>\n    </tr>\n    <tr>\n      <th>3</th>\n      <td>32000.0</td>\n      <td>NaN</td>\n      <td>NaN</td>\n      <td>NaN</td>\n      <td>40205.0</td>\n    </tr>\n    <tr>\n      <th>4</th>\n      <td>60000.0</td>\n      <td>NaN</td>\n      <td>NaN</td>\n      <td>NaN</td>\n      <td>215232.0</td>\n    </tr>\n    <tr>\n      <th>5</th>\n      <td>NaN</td>\n      <td>NaN</td>\n      <td>NaN</td>\n      <td>NaN</td>\n      <td>NaN</td>\n    </tr>\n    <tr>\n      <th>...</th>\n      <td>...</td>\n      <td>...</td>\n      <td>...</td>\n      <td>...</td>\n      <td>...</td>\n    </tr>\n    <tr>\n      <th>73264</th>\n      <td>60000.0</td>\n      <td>NaN</td>\n      <td>NaN</td>\n      <td>5.0</td>\n      <td>NaN</td>\n    </tr>\n    <tr>\n      <th>73265</th>\n      <td>107000.0</td>\n      <td>NaN</td>\n      <td>NaN</td>\n      <td>6.0</td>\n      <td>NaN</td>\n    </tr>\n    <tr>\n      <th>73266</th>\n      <td>NaN</td>\n      <td>NaN</td>\n      <td>NaN</td>\n      <td>42.0</td>\n      <td>NaN</td>\n    </tr>\n    <tr>\n      <th>73267</th>\n      <td>58500.0</td>\n      <td>NaN</td>\n      <td>NaN</td>\n      <td>NaN</td>\n      <td>NaN</td>\n    </tr>\n    <tr>\n      <th>73268</th>\n      <td>NaN</td>\n      <td>NaN</td>\n      <td>NaN</td>\n      <td>NaN</td>\n      <td>NaN</td>\n    </tr>\n  </tbody>\n</table>\n<p>73268 rows × 5 columns</p>\n</div>"
     },
     "execution_count": 3,
     "metadata": {},
     "output_type": "execute_result"
    }
   ],
   "source": [
    "df.select_dtypes('number')"
   ],
   "metadata": {
    "collapsed": false,
    "ExecuteTime": {
     "end_time": "2023-06-02T13:42:12.060170896Z",
     "start_time": "2023-06-02T13:42:12.051225687Z"
    }
   }
  },
  {
   "cell_type": "markdown",
   "source": [
    "### Descrevendo colunas numéricas\n",
    "\n",
    "Podemos usar `df.describe()` para obter estatísticas básicas das colunas numéricas (note que, por padrão, este método já ignora as colunas de tipo `object`):"
   ],
   "metadata": {
    "collapsed": false
   }
  },
  {
   "cell_type": "code",
   "execution_count": 8,
   "outputs": [
    {
     "data": {
      "text/plain": "          CompTotal  VCHostingPersonal use  VCHostingProfessional use   \ncount  3.842200e+04                    0.0                        0.0  \\\nmean   2.342434e+52                    NaN                        NaN   \nstd    4.591478e+54                    NaN                        NaN   \nmin    0.000000e+00                    NaN                        NaN   \n25%    3.000000e+04                    NaN                        NaN   \n50%    7.750000e+04                    NaN                        NaN   \n75%    1.540000e+05                    NaN                        NaN   \nmax    9.000000e+56                    NaN                        NaN   \n\n            WorkExp  ConvertedCompYearly  \ncount  36769.000000         3.807100e+04  \nmean      10.242378         1.707613e+05  \nstd        8.706850         7.814132e+05  \nmin        0.000000         1.000000e+00  \n25%        4.000000         3.583200e+04  \n50%        8.000000         6.784500e+04  \n75%       15.000000         1.200000e+05  \nmax       50.000000         5.000000e+07  ",
      "text/html": "<div>\n<style scoped>\n    .dataframe tbody tr th:only-of-type {\n        vertical-align: middle;\n    }\n\n    .dataframe tbody tr th {\n        vertical-align: top;\n    }\n\n    .dataframe thead th {\n        text-align: right;\n    }\n</style>\n<table border=\"1\" class=\"dataframe\">\n  <thead>\n    <tr style=\"text-align: right;\">\n      <th></th>\n      <th>CompTotal</th>\n      <th>VCHostingPersonal use</th>\n      <th>VCHostingProfessional use</th>\n      <th>WorkExp</th>\n      <th>ConvertedCompYearly</th>\n    </tr>\n  </thead>\n  <tbody>\n    <tr>\n      <th>count</th>\n      <td>3.842200e+04</td>\n      <td>0.0</td>\n      <td>0.0</td>\n      <td>36769.000000</td>\n      <td>3.807100e+04</td>\n    </tr>\n    <tr>\n      <th>mean</th>\n      <td>2.342434e+52</td>\n      <td>NaN</td>\n      <td>NaN</td>\n      <td>10.242378</td>\n      <td>1.707613e+05</td>\n    </tr>\n    <tr>\n      <th>std</th>\n      <td>4.591478e+54</td>\n      <td>NaN</td>\n      <td>NaN</td>\n      <td>8.706850</td>\n      <td>7.814132e+05</td>\n    </tr>\n    <tr>\n      <th>min</th>\n      <td>0.000000e+00</td>\n      <td>NaN</td>\n      <td>NaN</td>\n      <td>0.000000</td>\n      <td>1.000000e+00</td>\n    </tr>\n    <tr>\n      <th>25%</th>\n      <td>3.000000e+04</td>\n      <td>NaN</td>\n      <td>NaN</td>\n      <td>4.000000</td>\n      <td>3.583200e+04</td>\n    </tr>\n    <tr>\n      <th>50%</th>\n      <td>7.750000e+04</td>\n      <td>NaN</td>\n      <td>NaN</td>\n      <td>8.000000</td>\n      <td>6.784500e+04</td>\n    </tr>\n    <tr>\n      <th>75%</th>\n      <td>1.540000e+05</td>\n      <td>NaN</td>\n      <td>NaN</td>\n      <td>15.000000</td>\n      <td>1.200000e+05</td>\n    </tr>\n    <tr>\n      <th>max</th>\n      <td>9.000000e+56</td>\n      <td>NaN</td>\n      <td>NaN</td>\n      <td>50.000000</td>\n      <td>5.000000e+07</td>\n    </tr>\n  </tbody>\n</table>\n</div>"
     },
     "execution_count": 8,
     "metadata": {},
     "output_type": "execute_result"
    }
   ],
   "source": [
    "df.describe()"
   ],
   "metadata": {
    "collapsed": false,
    "ExecuteTime": {
     "end_time": "2023-06-02T14:29:44.936730312Z",
     "start_time": "2023-06-02T14:29:44.893707693Z"
    }
   }
  },
  {
   "cell_type": "markdown",
   "source": [
    "As colunas não estão muito informativas.\n",
    "\n",
    "Como vimos anteriormente, as colunas `VCHostingPersonal use` e `VCHostingProfessional use` possuem apenas valores nulos.\n",
    "\n",
    "Além disso, `CompTotal` é apenas a compensação (salário) em dinheiro local: o valor convertido dólares está em `ConvertedCompYearly`.\n",
    "\n",
    "Podemos selecionar apenas as colunas de interesse, antes de chamar o método `df.describe()`:"
   ],
   "metadata": {
    "collapsed": false
   }
  },
  {
   "cell_type": "code",
   "execution_count": 9,
   "outputs": [
    {
     "data": {
      "text/plain": "            WorkExp  ConvertedCompYearly\ncount  36769.000000         3.807100e+04\nmean      10.242378         1.707613e+05\nstd        8.706850         7.814132e+05\nmin        0.000000         1.000000e+00\n25%        4.000000         3.583200e+04\n50%        8.000000         6.784500e+04\n75%       15.000000         1.200000e+05\nmax       50.000000         5.000000e+07",
      "text/html": "<div>\n<style scoped>\n    .dataframe tbody tr th:only-of-type {\n        vertical-align: middle;\n    }\n\n    .dataframe tbody tr th {\n        vertical-align: top;\n    }\n\n    .dataframe thead th {\n        text-align: right;\n    }\n</style>\n<table border=\"1\" class=\"dataframe\">\n  <thead>\n    <tr style=\"text-align: right;\">\n      <th></th>\n      <th>WorkExp</th>\n      <th>ConvertedCompYearly</th>\n    </tr>\n  </thead>\n  <tbody>\n    <tr>\n      <th>count</th>\n      <td>36769.000000</td>\n      <td>3.807100e+04</td>\n    </tr>\n    <tr>\n      <th>mean</th>\n      <td>10.242378</td>\n      <td>1.707613e+05</td>\n    </tr>\n    <tr>\n      <th>std</th>\n      <td>8.706850</td>\n      <td>7.814132e+05</td>\n    </tr>\n    <tr>\n      <th>min</th>\n      <td>0.000000</td>\n      <td>1.000000e+00</td>\n    </tr>\n    <tr>\n      <th>25%</th>\n      <td>4.000000</td>\n      <td>3.583200e+04</td>\n    </tr>\n    <tr>\n      <th>50%</th>\n      <td>8.000000</td>\n      <td>6.784500e+04</td>\n    </tr>\n    <tr>\n      <th>75%</th>\n      <td>15.000000</td>\n      <td>1.200000e+05</td>\n    </tr>\n    <tr>\n      <th>max</th>\n      <td>50.000000</td>\n      <td>5.000000e+07</td>\n    </tr>\n  </tbody>\n</table>\n</div>"
     },
     "execution_count": 9,
     "metadata": {},
     "output_type": "execute_result"
    }
   ],
   "source": [
    "df[['WorkExp', 'ConvertedCompYearly']].describe()"
   ],
   "metadata": {
    "collapsed": false,
    "ExecuteTime": {
     "end_time": "2023-06-02T14:29:46.529372576Z",
     "start_time": "2023-06-02T14:29:46.515671937Z"
    }
   }
  },
  {
   "cell_type": "markdown",
   "source": [
    "Para melhorar ainda mais, vamos arredondar os números dessa tabela:"
   ],
   "metadata": {
    "collapsed": false
   }
  },
  {
   "cell_type": "code",
   "execution_count": 10,
   "outputs": [
    {
     "data": {
      "text/plain": "        WorkExp  ConvertedCompYearly\ncount  36769.00             38071.00\nmean      10.24            170761.28\nstd        8.71            781413.24\nmin        0.00                 1.00\n25%        4.00             35832.00\n50%        8.00             67845.00\n75%       15.00            120000.00\nmax       50.00          50000000.00",
      "text/html": "<div>\n<style scoped>\n    .dataframe tbody tr th:only-of-type {\n        vertical-align: middle;\n    }\n\n    .dataframe tbody tr th {\n        vertical-align: top;\n    }\n\n    .dataframe thead th {\n        text-align: right;\n    }\n</style>\n<table border=\"1\" class=\"dataframe\">\n  <thead>\n    <tr style=\"text-align: right;\">\n      <th></th>\n      <th>WorkExp</th>\n      <th>ConvertedCompYearly</th>\n    </tr>\n  </thead>\n  <tbody>\n    <tr>\n      <th>count</th>\n      <td>36769.00</td>\n      <td>38071.00</td>\n    </tr>\n    <tr>\n      <th>mean</th>\n      <td>10.24</td>\n      <td>170761.28</td>\n    </tr>\n    <tr>\n      <th>std</th>\n      <td>8.71</td>\n      <td>781413.24</td>\n    </tr>\n    <tr>\n      <th>min</th>\n      <td>0.00</td>\n      <td>1.00</td>\n    </tr>\n    <tr>\n      <th>25%</th>\n      <td>4.00</td>\n      <td>35832.00</td>\n    </tr>\n    <tr>\n      <th>50%</th>\n      <td>8.00</td>\n      <td>67845.00</td>\n    </tr>\n    <tr>\n      <th>75%</th>\n      <td>15.00</td>\n      <td>120000.00</td>\n    </tr>\n    <tr>\n      <th>max</th>\n      <td>50.00</td>\n      <td>50000000.00</td>\n    </tr>\n  </tbody>\n</table>\n</div>"
     },
     "execution_count": 10,
     "metadata": {},
     "output_type": "execute_result"
    }
   ],
   "source": [
    "df[['WorkExp', 'ConvertedCompYearly']].describe().round(2)"
   ],
   "metadata": {
    "collapsed": false,
    "ExecuteTime": {
     "end_time": "2023-06-02T14:29:51.856530936Z",
     "start_time": "2023-06-02T14:29:51.809861380Z"
    }
   }
  },
  {
   "cell_type": "markdown",
   "source": [
    "Com esses dados, conseguimos ver que:\n",
    "- A média de tempo de experiência de trabalho é de 10 anos\n",
    "- A compensação anual média é de 170 mil USD (cerca de 14 mil USD por mês)\n",
    "- Para ambas as colunas, a mediana (50%) está menor que a média. Isto significa que valores altos estão \"puxando\" a média para cima de forma desproporcional, causando uma distribuição assimétrica, com cauda para a direita.\n",
    "\n",
    "Vamos explorar estas relações de forma gráfica na próxima aula!"
   ],
   "metadata": {
    "collapsed": false
   }
  },
  {
   "cell_type": "markdown",
   "source": [
    "Aliás, lembra que algumas dessas colunas contém valores nulos? Se você estiver se perguntando o que aconteceu com eles, leia a [documentação](https://pandas.pydata.org/docs/reference/api/pandas.DataFrame.describe.html) do método `df.describe()`."
   ],
   "metadata": {
    "collapsed": false
   }
  }
 ],
 "metadata": {
  "kernelspec": {
   "display_name": "Python 3",
   "language": "python",
   "name": "python3"
  },
  "language_info": {
   "codemirror_mode": {
    "name": "ipython",
    "version": 2
   },
   "file_extension": ".py",
   "mimetype": "text/x-python",
   "name": "python",
   "nbconvert_exporter": "python",
   "pygments_lexer": "ipython2",
   "version": "2.7.6"
  }
 },
 "nbformat": 4,
 "nbformat_minor": 0
}
