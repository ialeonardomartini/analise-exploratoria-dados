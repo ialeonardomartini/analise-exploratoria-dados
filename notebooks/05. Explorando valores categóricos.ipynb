{
 "cells": [
  {
   "cell_type": "markdown",
   "source": [
    "# Explorando valores categóricos\n",
    "\n",
    "## Objetivo: Selecionar valores categóricos e entender como avaliá-los.\n"
   ],
   "metadata": {
    "collapsed": false
   }
  },
  {
   "cell_type": "code",
   "execution_count": 35,
   "outputs": [
    {
     "data": {
      "text/plain": "                                                   MainBranch   \nResponseId                                                      \n1                                               None of these  \\\n2                              I am a developer by profession   \n3           I am not primarily a developer, but I write co...   \n4                              I am a developer by profession   \n5                              I am a developer by profession   \n...                                                       ...   \n73264                          I am a developer by profession   \n73265                          I am a developer by profession   \n73266       I am not primarily a developer, but I write co...   \n73267                          I am a developer by profession   \n73268       I used to be a developer by profession, but no...   \n\n                                                   Employment   \nResponseId                                                      \n1                                                         NaN  \\\n2                                         Employed, full-time   \n3                                         Employed, full-time   \n4                                         Employed, full-time   \n5                                         Employed, full-time   \n...                                                       ...   \n73264                                     Employed, full-time   \n73265                                     Employed, full-time   \n73266                                     Employed, full-time   \n73267                                     Employed, full-time   \n73268       Independent contractor, freelancer, or self-em...   \n\n                                      RemoteWork   \nResponseId                                         \n1                                            NaN  \\\n2                                   Fully remote   \n3           Hybrid (some remote, some in-person)   \n4                                   Fully remote   \n5           Hybrid (some remote, some in-person)   \n...                                          ...   \n73264                               Fully remote   \n73265                             Full in-person   \n73266       Hybrid (some remote, some in-person)   \n73267       Hybrid (some remote, some in-person)   \n73268                               Fully remote   \n\n                                             CodingActivities   \nResponseId                                                      \n1                                                         NaN  \\\n2                    Hobby;Contribute to open-source projects   \n3                                                       Hobby   \n4                                I don’t code outside of work   \n5                                                       Hobby   \n...                                                       ...   \n73264                                 Freelance/contract work   \n73265                                                   Hobby   \n73266                           Hobby;School or academic work   \n73267                                                   Hobby   \n73268       Hobby;Contribute to open-source projects;Boots...   \n\n                                                    EdLevel   \nResponseId                                                    \n1                                                       NaN  \\\n2                                                       NaN   \n3           Master’s degree (M.A., M.S., M.Eng., MBA, etc.)   \n4              Bachelor’s degree (B.A., B.S., B.Eng., etc.)   \n5              Bachelor’s degree (B.A., B.S., B.Eng., etc.)   \n...                                                     ...   \n73264          Bachelor’s degree (B.A., B.S., B.Eng., etc.)   \n73265       Master’s degree (M.A., M.S., M.Eng., MBA, etc.)   \n73266          Bachelor’s degree (B.A., B.S., B.Eng., etc.)   \n73267          Bachelor’s degree (B.A., B.S., B.Eng., etc.)   \n73268          Bachelor’s degree (B.A., B.S., B.Eng., etc.)   \n\n                                                    LearnCode   \nResponseId                                                      \n1                                                         NaN  \\\n2                                                         NaN   \n3           Books / Physical media;Friend or family member...   \n4           Books / Physical media;School (i.e., Universit...   \n5           Other online resources (e.g., videos, blogs, f...   \n...                                                       ...   \n73264       Books / Physical media;Other online resources ...   \n73265       Other online resources (e.g., videos, blogs, f...   \n73266       Books / Physical media;Other online resources ...   \n73267              Books / Physical media;On the job training   \n73268       Books / Physical media;Friend or family member...   \n\n                                              LearnCodeOnline   \nResponseId                                                      \n1                                                         NaN  \\\n2                                                         NaN   \n3           Technical documentation;Blogs;Programming Game...   \n4                                                         NaN   \n5           Technical documentation;Blogs;Stack Overflow;O...   \n...                                                       ...   \n73264       Technical documentation;Blogs;Written Tutorial...   \n73265       Technical documentation;Blogs;Written Tutorial...   \n73266       Technical documentation;Programming Games;Stac...   \n73267                                                     NaN   \n73268       Technical documentation;Blogs;Programming Game...   \n\n                        LearnCodeCoursesCert YearsCode YearsCodePro  ...   \nResponseId                                                           ...   \n1                                        NaN       NaN          NaN  ...  \\\n2                                        NaN       NaN          NaN  ...   \n3                                        NaN        14            5  ...   \n4                                        NaN        20           17  ...   \n5                                        NaN         8            3  ...   \n...                                      ...       ...          ...  ...   \n73264                                  Udemy         8            5  ...   \n73265                 Coursera;Udemy;Udacity         6            5  ...   \n73266       Udemy;Codecademy;Pluralsight;edX        42           33  ...   \n73267                                    NaN        50           31  ...   \n73268                      Udemy;Pluralsight        16            5  ...   \n\n                  TimeSearching               TimeAnswering  Onboarding   \nResponseId                                                                \n1                           NaN                         NaN         NaN  \\\n2                           NaN                         NaN         NaN   \n3                           NaN                         NaN         NaN   \n4                           NaN                         NaN         NaN   \n5                           NaN                         NaN         NaN   \n...                         ...                         ...         ...   \n73264       30-60 minutes a day  Less than 15 minutes a day  Just right   \n73265       15-30 minutes a day        60-120 minutes a day   Very long   \n73266       30-60 minutes a day        60-120 minutes a day  Just right   \n73267                       NaN                         NaN         NaN   \n73268                       NaN                         NaN         NaN   \n\n                                             ProfessionalTech TrueFalse_1   \nResponseId                                                                  \n1                                                         NaN         NaN  \\\n2                                                         NaN         NaN   \n3                                                         NaN         NaN   \n4                                                         NaN         NaN   \n5                                                         NaN         NaN   \n...                                                       ...         ...   \n73264       DevOps function;Microservices;Developer portal...         Yes   \n73265                                           None of these          No   \n73266                                           None of these          No   \n73267                                                     NaN         NaN   \n73268                                                     NaN         NaN   \n\n           TrueFalse_2  TrueFalse_3           SurveyLength   \nResponseId                                                   \n1                  NaN          NaN                    NaN  \\\n2                  NaN          NaN               Too long   \n3                  NaN          NaN  Appropriate in length   \n4                  NaN          NaN  Appropriate in length   \n5                  NaN          NaN               Too long   \n...                ...          ...                    ...   \n73264              Yes          Yes               Too long   \n73265              Yes          Yes               Too long   \n73266               No           No  Appropriate in length   \n73267              NaN          NaN  Appropriate in length   \n73268              NaN          NaN  Appropriate in length   \n\n                            SurveyEase ConvertedCompYearly  \nResponseId                                                  \n1                                  NaN                 NaN  \n2                            Difficult                 NaN  \n3           Neither easy nor difficult             40205.0  \n4                                 Easy            215232.0  \n5                                 Easy                 NaN  \n...                                ...                 ...  \n73264                             Easy                 NaN  \n73265                             Easy                 NaN  \n73266                             Easy                 NaN  \n73267                             Easy                 NaN  \n73268                             Easy                 NaN  \n\n[73268 rows x 78 columns]",
      "text/html": "<div>\n<style scoped>\n    .dataframe tbody tr th:only-of-type {\n        vertical-align: middle;\n    }\n\n    .dataframe tbody tr th {\n        vertical-align: top;\n    }\n\n    .dataframe thead th {\n        text-align: right;\n    }\n</style>\n<table border=\"1\" class=\"dataframe\">\n  <thead>\n    <tr style=\"text-align: right;\">\n      <th></th>\n      <th>MainBranch</th>\n      <th>Employment</th>\n      <th>RemoteWork</th>\n      <th>CodingActivities</th>\n      <th>EdLevel</th>\n      <th>LearnCode</th>\n      <th>LearnCodeOnline</th>\n      <th>LearnCodeCoursesCert</th>\n      <th>YearsCode</th>\n      <th>YearsCodePro</th>\n      <th>...</th>\n      <th>TimeSearching</th>\n      <th>TimeAnswering</th>\n      <th>Onboarding</th>\n      <th>ProfessionalTech</th>\n      <th>TrueFalse_1</th>\n      <th>TrueFalse_2</th>\n      <th>TrueFalse_3</th>\n      <th>SurveyLength</th>\n      <th>SurveyEase</th>\n      <th>ConvertedCompYearly</th>\n    </tr>\n    <tr>\n      <th>ResponseId</th>\n      <th></th>\n      <th></th>\n      <th></th>\n      <th></th>\n      <th></th>\n      <th></th>\n      <th></th>\n      <th></th>\n      <th></th>\n      <th></th>\n      <th></th>\n      <th></th>\n      <th></th>\n      <th></th>\n      <th></th>\n      <th></th>\n      <th></th>\n      <th></th>\n      <th></th>\n      <th></th>\n      <th></th>\n    </tr>\n  </thead>\n  <tbody>\n    <tr>\n      <th>1</th>\n      <td>None of these</td>\n      <td>NaN</td>\n      <td>NaN</td>\n      <td>NaN</td>\n      <td>NaN</td>\n      <td>NaN</td>\n      <td>NaN</td>\n      <td>NaN</td>\n      <td>NaN</td>\n      <td>NaN</td>\n      <td>...</td>\n      <td>NaN</td>\n      <td>NaN</td>\n      <td>NaN</td>\n      <td>NaN</td>\n      <td>NaN</td>\n      <td>NaN</td>\n      <td>NaN</td>\n      <td>NaN</td>\n      <td>NaN</td>\n      <td>NaN</td>\n    </tr>\n    <tr>\n      <th>2</th>\n      <td>I am a developer by profession</td>\n      <td>Employed, full-time</td>\n      <td>Fully remote</td>\n      <td>Hobby;Contribute to open-source projects</td>\n      <td>NaN</td>\n      <td>NaN</td>\n      <td>NaN</td>\n      <td>NaN</td>\n      <td>NaN</td>\n      <td>NaN</td>\n      <td>...</td>\n      <td>NaN</td>\n      <td>NaN</td>\n      <td>NaN</td>\n      <td>NaN</td>\n      <td>NaN</td>\n      <td>NaN</td>\n      <td>NaN</td>\n      <td>Too long</td>\n      <td>Difficult</td>\n      <td>NaN</td>\n    </tr>\n    <tr>\n      <th>3</th>\n      <td>I am not primarily a developer, but I write co...</td>\n      <td>Employed, full-time</td>\n      <td>Hybrid (some remote, some in-person)</td>\n      <td>Hobby</td>\n      <td>Master’s degree (M.A., M.S., M.Eng., MBA, etc.)</td>\n      <td>Books / Physical media;Friend or family member...</td>\n      <td>Technical documentation;Blogs;Programming Game...</td>\n      <td>NaN</td>\n      <td>14</td>\n      <td>5</td>\n      <td>...</td>\n      <td>NaN</td>\n      <td>NaN</td>\n      <td>NaN</td>\n      <td>NaN</td>\n      <td>NaN</td>\n      <td>NaN</td>\n      <td>NaN</td>\n      <td>Appropriate in length</td>\n      <td>Neither easy nor difficult</td>\n      <td>40205.0</td>\n    </tr>\n    <tr>\n      <th>4</th>\n      <td>I am a developer by profession</td>\n      <td>Employed, full-time</td>\n      <td>Fully remote</td>\n      <td>I don’t code outside of work</td>\n      <td>Bachelor’s degree (B.A., B.S., B.Eng., etc.)</td>\n      <td>Books / Physical media;School (i.e., Universit...</td>\n      <td>NaN</td>\n      <td>NaN</td>\n      <td>20</td>\n      <td>17</td>\n      <td>...</td>\n      <td>NaN</td>\n      <td>NaN</td>\n      <td>NaN</td>\n      <td>NaN</td>\n      <td>NaN</td>\n      <td>NaN</td>\n      <td>NaN</td>\n      <td>Appropriate in length</td>\n      <td>Easy</td>\n      <td>215232.0</td>\n    </tr>\n    <tr>\n      <th>5</th>\n      <td>I am a developer by profession</td>\n      <td>Employed, full-time</td>\n      <td>Hybrid (some remote, some in-person)</td>\n      <td>Hobby</td>\n      <td>Bachelor’s degree (B.A., B.S., B.Eng., etc.)</td>\n      <td>Other online resources (e.g., videos, blogs, f...</td>\n      <td>Technical documentation;Blogs;Stack Overflow;O...</td>\n      <td>NaN</td>\n      <td>8</td>\n      <td>3</td>\n      <td>...</td>\n      <td>NaN</td>\n      <td>NaN</td>\n      <td>NaN</td>\n      <td>NaN</td>\n      <td>NaN</td>\n      <td>NaN</td>\n      <td>NaN</td>\n      <td>Too long</td>\n      <td>Easy</td>\n      <td>NaN</td>\n    </tr>\n    <tr>\n      <th>...</th>\n      <td>...</td>\n      <td>...</td>\n      <td>...</td>\n      <td>...</td>\n      <td>...</td>\n      <td>...</td>\n      <td>...</td>\n      <td>...</td>\n      <td>...</td>\n      <td>...</td>\n      <td>...</td>\n      <td>...</td>\n      <td>...</td>\n      <td>...</td>\n      <td>...</td>\n      <td>...</td>\n      <td>...</td>\n      <td>...</td>\n      <td>...</td>\n      <td>...</td>\n      <td>...</td>\n    </tr>\n    <tr>\n      <th>73264</th>\n      <td>I am a developer by profession</td>\n      <td>Employed, full-time</td>\n      <td>Fully remote</td>\n      <td>Freelance/contract work</td>\n      <td>Bachelor’s degree (B.A., B.S., B.Eng., etc.)</td>\n      <td>Books / Physical media;Other online resources ...</td>\n      <td>Technical documentation;Blogs;Written Tutorial...</td>\n      <td>Udemy</td>\n      <td>8</td>\n      <td>5</td>\n      <td>...</td>\n      <td>30-60 minutes a day</td>\n      <td>Less than 15 minutes a day</td>\n      <td>Just right</td>\n      <td>DevOps function;Microservices;Developer portal...</td>\n      <td>Yes</td>\n      <td>Yes</td>\n      <td>Yes</td>\n      <td>Too long</td>\n      <td>Easy</td>\n      <td>NaN</td>\n    </tr>\n    <tr>\n      <th>73265</th>\n      <td>I am a developer by profession</td>\n      <td>Employed, full-time</td>\n      <td>Full in-person</td>\n      <td>Hobby</td>\n      <td>Master’s degree (M.A., M.S., M.Eng., MBA, etc.)</td>\n      <td>Other online resources (e.g., videos, blogs, f...</td>\n      <td>Technical documentation;Blogs;Written Tutorial...</td>\n      <td>Coursera;Udemy;Udacity</td>\n      <td>6</td>\n      <td>5</td>\n      <td>...</td>\n      <td>15-30 minutes a day</td>\n      <td>60-120 minutes a day</td>\n      <td>Very long</td>\n      <td>None of these</td>\n      <td>No</td>\n      <td>Yes</td>\n      <td>Yes</td>\n      <td>Too long</td>\n      <td>Easy</td>\n      <td>NaN</td>\n    </tr>\n    <tr>\n      <th>73266</th>\n      <td>I am not primarily a developer, but I write co...</td>\n      <td>Employed, full-time</td>\n      <td>Hybrid (some remote, some in-person)</td>\n      <td>Hobby;School or academic work</td>\n      <td>Bachelor’s degree (B.A., B.S., B.Eng., etc.)</td>\n      <td>Books / Physical media;Other online resources ...</td>\n      <td>Technical documentation;Programming Games;Stac...</td>\n      <td>Udemy;Codecademy;Pluralsight;edX</td>\n      <td>42</td>\n      <td>33</td>\n      <td>...</td>\n      <td>30-60 minutes a day</td>\n      <td>60-120 minutes a day</td>\n      <td>Just right</td>\n      <td>None of these</td>\n      <td>No</td>\n      <td>No</td>\n      <td>No</td>\n      <td>Appropriate in length</td>\n      <td>Easy</td>\n      <td>NaN</td>\n    </tr>\n    <tr>\n      <th>73267</th>\n      <td>I am a developer by profession</td>\n      <td>Employed, full-time</td>\n      <td>Hybrid (some remote, some in-person)</td>\n      <td>Hobby</td>\n      <td>Bachelor’s degree (B.A., B.S., B.Eng., etc.)</td>\n      <td>Books / Physical media;On the job training</td>\n      <td>NaN</td>\n      <td>NaN</td>\n      <td>50</td>\n      <td>31</td>\n      <td>...</td>\n      <td>NaN</td>\n      <td>NaN</td>\n      <td>NaN</td>\n      <td>NaN</td>\n      <td>NaN</td>\n      <td>NaN</td>\n      <td>NaN</td>\n      <td>Appropriate in length</td>\n      <td>Easy</td>\n      <td>NaN</td>\n    </tr>\n    <tr>\n      <th>73268</th>\n      <td>I used to be a developer by profession, but no...</td>\n      <td>Independent contractor, freelancer, or self-em...</td>\n      <td>Fully remote</td>\n      <td>Hobby;Contribute to open-source projects;Boots...</td>\n      <td>Bachelor’s degree (B.A., B.S., B.Eng., etc.)</td>\n      <td>Books / Physical media;Friend or family member...</td>\n      <td>Technical documentation;Blogs;Programming Game...</td>\n      <td>Udemy;Pluralsight</td>\n      <td>16</td>\n      <td>5</td>\n      <td>...</td>\n      <td>NaN</td>\n      <td>NaN</td>\n      <td>NaN</td>\n      <td>NaN</td>\n      <td>NaN</td>\n      <td>NaN</td>\n      <td>NaN</td>\n      <td>Appropriate in length</td>\n      <td>Easy</td>\n      <td>NaN</td>\n    </tr>\n  </tbody>\n</table>\n<p>73268 rows × 78 columns</p>\n</div>"
     },
     "execution_count": 35,
     "metadata": {},
     "output_type": "execute_result"
    }
   ],
   "source": [
    "import pandas as pd\n",
    "\n",
    "df = pd.read_csv('materiais de aula/survey_results_public.csv', index_col='ResponseId')\n",
    "df"
   ],
   "metadata": {
    "collapsed": false,
    "ExecuteTime": {
     "end_time": "2023-06-02T14:30:03.723875055Z",
     "start_time": "2023-06-02T14:30:02.765362191Z"
    }
   }
  },
  {
   "cell_type": "markdown",
   "source": [
    "### Selecionando dados de texto\n",
    "\n",
    "E quanto a colunas de strings? Você pode pensar que podemos selecioná-las com o dtype `string`..."
   ],
   "metadata": {
    "collapsed": false
   }
  },
  {
   "cell_type": "code",
   "execution_count": 36,
   "outputs": [
    {
     "data": {
      "text/plain": "Empty DataFrame\nColumns: []\nIndex: [1, 2, 3, 4, 5, 6, 7, 8, 9, 10, 11, 12, 13, 14, 15, 16, 17, 18, 19, 20, 21, 22, 23, 24, 25, 26, 27, 28, 29, 30, 31, 32, 33, 34, 35, 36, 37, 38, 39, 40, 41, 42, 43, 44, 45, 46, 47, 48, 49, 50, 51, 52, 53, 54, 55, 56, 57, 58, 59, 60, 61, 62, 63, 64, 65, 66, 67, 68, 69, 70, 71, 72, 73, 74, 75, 76, 77, 78, 79, 80, 81, 82, 83, 84, 85, 86, 87, 88, 89, 90, 91, 92, 93, 94, 95, 96, 97, 98, 99, 100, ...]\n\n[73268 rows x 0 columns]",
      "text/html": "<div>\n<style scoped>\n    .dataframe tbody tr th:only-of-type {\n        vertical-align: middle;\n    }\n\n    .dataframe tbody tr th {\n        vertical-align: top;\n    }\n\n    .dataframe thead th {\n        text-align: right;\n    }\n</style>\n<table border=\"1\" class=\"dataframe\">\n  <thead>\n    <tr style=\"text-align: right;\">\n      <th></th>\n    </tr>\n    <tr>\n      <th>ResponseId</th>\n    </tr>\n  </thead>\n  <tbody>\n    <tr>\n      <th>1</th>\n    </tr>\n    <tr>\n      <th>2</th>\n    </tr>\n    <tr>\n      <th>3</th>\n    </tr>\n    <tr>\n      <th>4</th>\n    </tr>\n    <tr>\n      <th>5</th>\n    </tr>\n    <tr>\n      <th>...</th>\n    </tr>\n    <tr>\n      <th>73264</th>\n    </tr>\n    <tr>\n      <th>73265</th>\n    </tr>\n    <tr>\n      <th>73266</th>\n    </tr>\n    <tr>\n      <th>73267</th>\n    </tr>\n    <tr>\n      <th>73268</th>\n    </tr>\n  </tbody>\n</table>\n<p>73268 rows × 0 columns</p>\n</div>"
     },
     "execution_count": 36,
     "metadata": {},
     "output_type": "execute_result"
    }
   ],
   "source": [
    "df.select_dtypes('string')  # Não funciona??"
   ],
   "metadata": {
    "collapsed": false,
    "ExecuteTime": {
     "end_time": "2023-06-02T14:30:04.711459818Z",
     "start_time": "2023-06-02T14:30:04.697988519Z"
    }
   }
  },
  {
   "cell_type": "markdown",
   "source": [
    "... Mas o problema aqui é que as colunas não são do tipo `string`, elas são `object`:"
   ],
   "metadata": {
    "collapsed": false
   }
  },
  {
   "cell_type": "code",
   "execution_count": 37,
   "outputs": [
    {
     "data": {
      "text/plain": "                                                   MainBranch   \nResponseId                                                      \n1                                               None of these  \\\n2                              I am a developer by profession   \n3           I am not primarily a developer, but I write co...   \n4                              I am a developer by profession   \n5                              I am a developer by profession   \n...                                                       ...   \n73264                          I am a developer by profession   \n73265                          I am a developer by profession   \n73266       I am not primarily a developer, but I write co...   \n73267                          I am a developer by profession   \n73268       I used to be a developer by profession, but no...   \n\n                                                   Employment   \nResponseId                                                      \n1                                                         NaN  \\\n2                                         Employed, full-time   \n3                                         Employed, full-time   \n4                                         Employed, full-time   \n5                                         Employed, full-time   \n...                                                       ...   \n73264                                     Employed, full-time   \n73265                                     Employed, full-time   \n73266                                     Employed, full-time   \n73267                                     Employed, full-time   \n73268       Independent contractor, freelancer, or self-em...   \n\n                                      RemoteWork   \nResponseId                                         \n1                                            NaN  \\\n2                                   Fully remote   \n3           Hybrid (some remote, some in-person)   \n4                                   Fully remote   \n5           Hybrid (some remote, some in-person)   \n...                                          ...   \n73264                               Fully remote   \n73265                             Full in-person   \n73266       Hybrid (some remote, some in-person)   \n73267       Hybrid (some remote, some in-person)   \n73268                               Fully remote   \n\n                                             CodingActivities   \nResponseId                                                      \n1                                                         NaN  \\\n2                    Hobby;Contribute to open-source projects   \n3                                                       Hobby   \n4                                I don’t code outside of work   \n5                                                       Hobby   \n...                                                       ...   \n73264                                 Freelance/contract work   \n73265                                                   Hobby   \n73266                           Hobby;School or academic work   \n73267                                                   Hobby   \n73268       Hobby;Contribute to open-source projects;Boots...   \n\n                                                    EdLevel   \nResponseId                                                    \n1                                                       NaN  \\\n2                                                       NaN   \n3           Master’s degree (M.A., M.S., M.Eng., MBA, etc.)   \n4              Bachelor’s degree (B.A., B.S., B.Eng., etc.)   \n5              Bachelor’s degree (B.A., B.S., B.Eng., etc.)   \n...                                                     ...   \n73264          Bachelor’s degree (B.A., B.S., B.Eng., etc.)   \n73265       Master’s degree (M.A., M.S., M.Eng., MBA, etc.)   \n73266          Bachelor’s degree (B.A., B.S., B.Eng., etc.)   \n73267          Bachelor’s degree (B.A., B.S., B.Eng., etc.)   \n73268          Bachelor’s degree (B.A., B.S., B.Eng., etc.)   \n\n                                                    LearnCode   \nResponseId                                                      \n1                                                         NaN  \\\n2                                                         NaN   \n3           Books / Physical media;Friend or family member...   \n4           Books / Physical media;School (i.e., Universit...   \n5           Other online resources (e.g., videos, blogs, f...   \n...                                                       ...   \n73264       Books / Physical media;Other online resources ...   \n73265       Other online resources (e.g., videos, blogs, f...   \n73266       Books / Physical media;Other online resources ...   \n73267              Books / Physical media;On the job training   \n73268       Books / Physical media;Friend or family member...   \n\n                                              LearnCodeOnline   \nResponseId                                                      \n1                                                         NaN  \\\n2                                                         NaN   \n3           Technical documentation;Blogs;Programming Game...   \n4                                                         NaN   \n5           Technical documentation;Blogs;Stack Overflow;O...   \n...                                                       ...   \n73264       Technical documentation;Blogs;Written Tutorial...   \n73265       Technical documentation;Blogs;Written Tutorial...   \n73266       Technical documentation;Programming Games;Stac...   \n73267                                                     NaN   \n73268       Technical documentation;Blogs;Programming Game...   \n\n                        LearnCodeCoursesCert YearsCode YearsCodePro  ...   \nResponseId                                                           ...   \n1                                        NaN       NaN          NaN  ...  \\\n2                                        NaN       NaN          NaN  ...   \n3                                        NaN        14            5  ...   \n4                                        NaN        20           17  ...   \n5                                        NaN         8            3  ...   \n...                                      ...       ...          ...  ...   \n73264                                  Udemy         8            5  ...   \n73265                 Coursera;Udemy;Udacity         6            5  ...   \n73266       Udemy;Codecademy;Pluralsight;edX        42           33  ...   \n73267                                    NaN        50           31  ...   \n73268                      Udemy;Pluralsight        16            5  ...   \n\n                 Frequency_3        TimeSearching               TimeAnswering   \nResponseId                                                                      \n1                        NaN                  NaN                         NaN  \\\n2                        NaN                  NaN                         NaN   \n3                        NaN                  NaN                         NaN   \n4                        NaN                  NaN                         NaN   \n5                        NaN                  NaN                         NaN   \n...                      ...                  ...                         ...   \n73264                  Never  30-60 minutes a day  Less than 15 minutes a day   \n73265       10+ times a week  15-30 minutes a day        60-120 minutes a day   \n73266                  Never  30-60 minutes a day        60-120 minutes a day   \n73267                    NaN                  NaN                         NaN   \n73268                    NaN                  NaN                         NaN   \n\n            Onboarding                                   ProfessionalTech   \nResponseId                                                                  \n1                  NaN                                                NaN  \\\n2                  NaN                                                NaN   \n3                  NaN                                                NaN   \n4                  NaN                                                NaN   \n5                  NaN                                                NaN   \n...                ...                                                ...   \n73264       Just right  DevOps function;Microservices;Developer portal...   \n73265        Very long                                      None of these   \n73266       Just right                                      None of these   \n73267              NaN                                                NaN   \n73268              NaN                                                NaN   \n\n           TrueFalse_1 TrueFalse_2 TrueFalse_3           SurveyLength   \nResponseId                                                              \n1                  NaN         NaN         NaN                    NaN  \\\n2                  NaN         NaN         NaN               Too long   \n3                  NaN         NaN         NaN  Appropriate in length   \n4                  NaN         NaN         NaN  Appropriate in length   \n5                  NaN         NaN         NaN               Too long   \n...                ...         ...         ...                    ...   \n73264              Yes         Yes         Yes               Too long   \n73265               No         Yes         Yes               Too long   \n73266               No          No          No  Appropriate in length   \n73267              NaN         NaN         NaN  Appropriate in length   \n73268              NaN         NaN         NaN  Appropriate in length   \n\n                            SurveyEase  \nResponseId                              \n1                                  NaN  \n2                            Difficult  \n3           Neither easy nor difficult  \n4                                 Easy  \n5                                 Easy  \n...                                ...  \n73264                             Easy  \n73265                             Easy  \n73266                             Easy  \n73267                             Easy  \n73268                             Easy  \n\n[73268 rows x 73 columns]",
      "text/html": "<div>\n<style scoped>\n    .dataframe tbody tr th:only-of-type {\n        vertical-align: middle;\n    }\n\n    .dataframe tbody tr th {\n        vertical-align: top;\n    }\n\n    .dataframe thead th {\n        text-align: right;\n    }\n</style>\n<table border=\"1\" class=\"dataframe\">\n  <thead>\n    <tr style=\"text-align: right;\">\n      <th></th>\n      <th>MainBranch</th>\n      <th>Employment</th>\n      <th>RemoteWork</th>\n      <th>CodingActivities</th>\n      <th>EdLevel</th>\n      <th>LearnCode</th>\n      <th>LearnCodeOnline</th>\n      <th>LearnCodeCoursesCert</th>\n      <th>YearsCode</th>\n      <th>YearsCodePro</th>\n      <th>...</th>\n      <th>Frequency_3</th>\n      <th>TimeSearching</th>\n      <th>TimeAnswering</th>\n      <th>Onboarding</th>\n      <th>ProfessionalTech</th>\n      <th>TrueFalse_1</th>\n      <th>TrueFalse_2</th>\n      <th>TrueFalse_3</th>\n      <th>SurveyLength</th>\n      <th>SurveyEase</th>\n    </tr>\n    <tr>\n      <th>ResponseId</th>\n      <th></th>\n      <th></th>\n      <th></th>\n      <th></th>\n      <th></th>\n      <th></th>\n      <th></th>\n      <th></th>\n      <th></th>\n      <th></th>\n      <th></th>\n      <th></th>\n      <th></th>\n      <th></th>\n      <th></th>\n      <th></th>\n      <th></th>\n      <th></th>\n      <th></th>\n      <th></th>\n      <th></th>\n    </tr>\n  </thead>\n  <tbody>\n    <tr>\n      <th>1</th>\n      <td>None of these</td>\n      <td>NaN</td>\n      <td>NaN</td>\n      <td>NaN</td>\n      <td>NaN</td>\n      <td>NaN</td>\n      <td>NaN</td>\n      <td>NaN</td>\n      <td>NaN</td>\n      <td>NaN</td>\n      <td>...</td>\n      <td>NaN</td>\n      <td>NaN</td>\n      <td>NaN</td>\n      <td>NaN</td>\n      <td>NaN</td>\n      <td>NaN</td>\n      <td>NaN</td>\n      <td>NaN</td>\n      <td>NaN</td>\n      <td>NaN</td>\n    </tr>\n    <tr>\n      <th>2</th>\n      <td>I am a developer by profession</td>\n      <td>Employed, full-time</td>\n      <td>Fully remote</td>\n      <td>Hobby;Contribute to open-source projects</td>\n      <td>NaN</td>\n      <td>NaN</td>\n      <td>NaN</td>\n      <td>NaN</td>\n      <td>NaN</td>\n      <td>NaN</td>\n      <td>...</td>\n      <td>NaN</td>\n      <td>NaN</td>\n      <td>NaN</td>\n      <td>NaN</td>\n      <td>NaN</td>\n      <td>NaN</td>\n      <td>NaN</td>\n      <td>NaN</td>\n      <td>Too long</td>\n      <td>Difficult</td>\n    </tr>\n    <tr>\n      <th>3</th>\n      <td>I am not primarily a developer, but I write co...</td>\n      <td>Employed, full-time</td>\n      <td>Hybrid (some remote, some in-person)</td>\n      <td>Hobby</td>\n      <td>Master’s degree (M.A., M.S., M.Eng., MBA, etc.)</td>\n      <td>Books / Physical media;Friend or family member...</td>\n      <td>Technical documentation;Blogs;Programming Game...</td>\n      <td>NaN</td>\n      <td>14</td>\n      <td>5</td>\n      <td>...</td>\n      <td>NaN</td>\n      <td>NaN</td>\n      <td>NaN</td>\n      <td>NaN</td>\n      <td>NaN</td>\n      <td>NaN</td>\n      <td>NaN</td>\n      <td>NaN</td>\n      <td>Appropriate in length</td>\n      <td>Neither easy nor difficult</td>\n    </tr>\n    <tr>\n      <th>4</th>\n      <td>I am a developer by profession</td>\n      <td>Employed, full-time</td>\n      <td>Fully remote</td>\n      <td>I don’t code outside of work</td>\n      <td>Bachelor’s degree (B.A., B.S., B.Eng., etc.)</td>\n      <td>Books / Physical media;School (i.e., Universit...</td>\n      <td>NaN</td>\n      <td>NaN</td>\n      <td>20</td>\n      <td>17</td>\n      <td>...</td>\n      <td>NaN</td>\n      <td>NaN</td>\n      <td>NaN</td>\n      <td>NaN</td>\n      <td>NaN</td>\n      <td>NaN</td>\n      <td>NaN</td>\n      <td>NaN</td>\n      <td>Appropriate in length</td>\n      <td>Easy</td>\n    </tr>\n    <tr>\n      <th>5</th>\n      <td>I am a developer by profession</td>\n      <td>Employed, full-time</td>\n      <td>Hybrid (some remote, some in-person)</td>\n      <td>Hobby</td>\n      <td>Bachelor’s degree (B.A., B.S., B.Eng., etc.)</td>\n      <td>Other online resources (e.g., videos, blogs, f...</td>\n      <td>Technical documentation;Blogs;Stack Overflow;O...</td>\n      <td>NaN</td>\n      <td>8</td>\n      <td>3</td>\n      <td>...</td>\n      <td>NaN</td>\n      <td>NaN</td>\n      <td>NaN</td>\n      <td>NaN</td>\n      <td>NaN</td>\n      <td>NaN</td>\n      <td>NaN</td>\n      <td>NaN</td>\n      <td>Too long</td>\n      <td>Easy</td>\n    </tr>\n    <tr>\n      <th>...</th>\n      <td>...</td>\n      <td>...</td>\n      <td>...</td>\n      <td>...</td>\n      <td>...</td>\n      <td>...</td>\n      <td>...</td>\n      <td>...</td>\n      <td>...</td>\n      <td>...</td>\n      <td>...</td>\n      <td>...</td>\n      <td>...</td>\n      <td>...</td>\n      <td>...</td>\n      <td>...</td>\n      <td>...</td>\n      <td>...</td>\n      <td>...</td>\n      <td>...</td>\n      <td>...</td>\n    </tr>\n    <tr>\n      <th>73264</th>\n      <td>I am a developer by profession</td>\n      <td>Employed, full-time</td>\n      <td>Fully remote</td>\n      <td>Freelance/contract work</td>\n      <td>Bachelor’s degree (B.A., B.S., B.Eng., etc.)</td>\n      <td>Books / Physical media;Other online resources ...</td>\n      <td>Technical documentation;Blogs;Written Tutorial...</td>\n      <td>Udemy</td>\n      <td>8</td>\n      <td>5</td>\n      <td>...</td>\n      <td>Never</td>\n      <td>30-60 minutes a day</td>\n      <td>Less than 15 minutes a day</td>\n      <td>Just right</td>\n      <td>DevOps function;Microservices;Developer portal...</td>\n      <td>Yes</td>\n      <td>Yes</td>\n      <td>Yes</td>\n      <td>Too long</td>\n      <td>Easy</td>\n    </tr>\n    <tr>\n      <th>73265</th>\n      <td>I am a developer by profession</td>\n      <td>Employed, full-time</td>\n      <td>Full in-person</td>\n      <td>Hobby</td>\n      <td>Master’s degree (M.A., M.S., M.Eng., MBA, etc.)</td>\n      <td>Other online resources (e.g., videos, blogs, f...</td>\n      <td>Technical documentation;Blogs;Written Tutorial...</td>\n      <td>Coursera;Udemy;Udacity</td>\n      <td>6</td>\n      <td>5</td>\n      <td>...</td>\n      <td>10+ times a week</td>\n      <td>15-30 minutes a day</td>\n      <td>60-120 minutes a day</td>\n      <td>Very long</td>\n      <td>None of these</td>\n      <td>No</td>\n      <td>Yes</td>\n      <td>Yes</td>\n      <td>Too long</td>\n      <td>Easy</td>\n    </tr>\n    <tr>\n      <th>73266</th>\n      <td>I am not primarily a developer, but I write co...</td>\n      <td>Employed, full-time</td>\n      <td>Hybrid (some remote, some in-person)</td>\n      <td>Hobby;School or academic work</td>\n      <td>Bachelor’s degree (B.A., B.S., B.Eng., etc.)</td>\n      <td>Books / Physical media;Other online resources ...</td>\n      <td>Technical documentation;Programming Games;Stac...</td>\n      <td>Udemy;Codecademy;Pluralsight;edX</td>\n      <td>42</td>\n      <td>33</td>\n      <td>...</td>\n      <td>Never</td>\n      <td>30-60 minutes a day</td>\n      <td>60-120 minutes a day</td>\n      <td>Just right</td>\n      <td>None of these</td>\n      <td>No</td>\n      <td>No</td>\n      <td>No</td>\n      <td>Appropriate in length</td>\n      <td>Easy</td>\n    </tr>\n    <tr>\n      <th>73267</th>\n      <td>I am a developer by profession</td>\n      <td>Employed, full-time</td>\n      <td>Hybrid (some remote, some in-person)</td>\n      <td>Hobby</td>\n      <td>Bachelor’s degree (B.A., B.S., B.Eng., etc.)</td>\n      <td>Books / Physical media;On the job training</td>\n      <td>NaN</td>\n      <td>NaN</td>\n      <td>50</td>\n      <td>31</td>\n      <td>...</td>\n      <td>NaN</td>\n      <td>NaN</td>\n      <td>NaN</td>\n      <td>NaN</td>\n      <td>NaN</td>\n      <td>NaN</td>\n      <td>NaN</td>\n      <td>NaN</td>\n      <td>Appropriate in length</td>\n      <td>Easy</td>\n    </tr>\n    <tr>\n      <th>73268</th>\n      <td>I used to be a developer by profession, but no...</td>\n      <td>Independent contractor, freelancer, or self-em...</td>\n      <td>Fully remote</td>\n      <td>Hobby;Contribute to open-source projects;Boots...</td>\n      <td>Bachelor’s degree (B.A., B.S., B.Eng., etc.)</td>\n      <td>Books / Physical media;Friend or family member...</td>\n      <td>Technical documentation;Blogs;Programming Game...</td>\n      <td>Udemy;Pluralsight</td>\n      <td>16</td>\n      <td>5</td>\n      <td>...</td>\n      <td>NaN</td>\n      <td>NaN</td>\n      <td>NaN</td>\n      <td>NaN</td>\n      <td>NaN</td>\n      <td>NaN</td>\n      <td>NaN</td>\n      <td>NaN</td>\n      <td>Appropriate in length</td>\n      <td>Easy</td>\n    </tr>\n  </tbody>\n</table>\n<p>73268 rows × 73 columns</p>\n</div>"
     },
     "execution_count": 37,
     "metadata": {},
     "output_type": "execute_result"
    }
   ],
   "source": [
    "df.select_dtypes('object')"
   ],
   "metadata": {
    "collapsed": false,
    "ExecuteTime": {
     "end_time": "2023-06-02T14:30:08.439275232Z",
     "start_time": "2023-06-02T14:30:08.394689841Z"
    }
   }
  },
  {
   "cell_type": "markdown",
   "source": [
    "Uma coluna do tipo `object` pode ter qualquer tipo de dado (lembre-se: em Python, tudo é objeto):"
   ],
   "metadata": {
    "collapsed": false
   }
  },
  {
   "cell_type": "code",
   "execution_count": 38,
   "outputs": [
    {
     "data": {
      "text/plain": "0      olá\n1        3\n2      1.1\n3    False\n4     None\ndtype: object"
     },
     "execution_count": 38,
     "metadata": {},
     "output_type": "execute_result"
    }
   ],
   "source": [
    "pd.Series(['olá', 3, 1.1, False, None])"
   ],
   "metadata": {
    "collapsed": false,
    "ExecuteTime": {
     "end_time": "2023-06-02T14:30:09.815693225Z",
     "start_time": "2023-06-02T14:30:09.809196914Z"
    }
   }
  },
  {
   "cell_type": "markdown",
   "source": [
    "O pandas apenas introduziu um tipo de dado específico para strings na sua versão 2.0. Contudo, para manter compatibilidade com versões antigas, ele continua lendo strings como colunas `object` por padrão.\n",
    "\n",
    "Se você estiver na versão 2.0 do pandas, Pode forçar a conversão de uma coluna com o método `astype()`:"
   ],
   "metadata": {
    "collapsed": false
   }
  },
  {
   "cell_type": "code",
   "execution_count": 39,
   "outputs": [
    {
     "data": {
      "text/plain": "ResponseId\n1                                        <NA>\n2                                Fully remote\n3        Hybrid (some remote, some in-person)\n4                                Fully remote\n5        Hybrid (some remote, some in-person)\n                         ...                 \n73264                            Fully remote\n73265                          Full in-person\n73266    Hybrid (some remote, some in-person)\n73267    Hybrid (some remote, some in-person)\n73268                            Fully remote\nName: RemoteWork, Length: 73268, dtype: string"
     },
     "execution_count": 39,
     "metadata": {},
     "output_type": "execute_result"
    }
   ],
   "source": [
    "df['RemoteWork'].astype('string')"
   ],
   "metadata": {
    "collapsed": false,
    "ExecuteTime": {
     "end_time": "2023-06-02T14:30:13.302761381Z",
     "start_time": "2023-06-02T14:30:13.298829370Z"
    }
   }
  },
  {
   "cell_type": "markdown",
   "source": [
    "Note que os valores `NaN`, que tradicionalmente representam um float \"not a number\", foram convertidos para o string `\"<NA>\"`.\n",
    "\n",
    "Por enquanto seguiremos com colunas `object`, mas é bom saber da existência do tipo de dado `string` caso você precise garantir que todos os elementos da coluna são texto!"
   ],
   "metadata": {
    "collapsed": false
   }
  },
  {
   "cell_type": "markdown",
   "source": [
    "### Descrevendo colunas categóricas\n",
    "\n",
    "No lugar de `df.describe()`, costumamos usar `df.value_counts()` para exibir uma contagem dos valores possíveis para uma categoria. Por exemplo:"
   ],
   "metadata": {
    "collapsed": false
   }
  },
  {
   "cell_type": "code",
   "execution_count": 40,
   "outputs": [
    {
     "data": {
      "text/plain": "RemoteWork\nFully remote                            25341\nHybrid (some remote, some in-person)    25021\nFull in-person                           8596\nName: count, dtype: int64"
     },
     "execution_count": 40,
     "metadata": {},
     "output_type": "execute_result"
    }
   ],
   "source": [
    "df['RemoteWork'].value_counts()"
   ],
   "metadata": {
    "collapsed": false,
    "ExecuteTime": {
     "end_time": "2023-06-02T14:30:36.232607800Z",
     "start_time": "2023-06-02T14:30:36.189211710Z"
    }
   }
  },
  {
   "cell_type": "markdown",
   "source": [
    "Aqui, vemos o número de cada categoria existente na coluna `\"RemoteWork\"`.\n",
    "\n",
    "Podemos usar `normalize=True` para retornar a fração de cada categoria, ao invés do número bruto.\n",
    "\n",
    "Também podemos usar `dropna=False` para evitar que valores nulos sejam desconsiderados:"
   ],
   "metadata": {
    "collapsed": false
   }
  },
  {
   "cell_type": "code",
   "execution_count": 41,
   "outputs": [
    {
     "data": {
      "text/plain": "RemoteWork\nFully remote                            0.345867\nHybrid (some remote, some in-person)    0.341500\nNaN                                     0.195310\nFull in-person                          0.117323\nName: proportion, dtype: float64"
     },
     "execution_count": 41,
     "metadata": {},
     "output_type": "execute_result"
    }
   ],
   "source": [
    "df['RemoteWork'].value_counts(normalize=True, dropna=False)"
   ],
   "metadata": {
    "collapsed": false,
    "ExecuteTime": {
     "end_time": "2023-06-02T14:30:41.615402823Z",
     "start_time": "2023-06-02T14:30:41.607289950Z"
    }
   }
  },
  {
   "cell_type": "markdown",
   "source": [
    "Parece que 19% dos participantes não responderam a esta pergunta!"
   ],
   "metadata": {
    "collapsed": false
   }
  },
  {
   "cell_type": "markdown",
   "source": [
    "### Valores possíveis de uma categoria\n",
    "\n",
    "Se tivermos apenas interesse em ver os valores possíveis para uma dada coluna, podemos usar o método `unique()`:"
   ],
   "metadata": {
    "collapsed": false
   }
  },
  {
   "cell_type": "code",
   "execution_count": 42,
   "outputs": [
    {
     "data": {
      "text/plain": "array([nan, 'Fully remote', 'Hybrid (some remote, some in-person)',\n       'Full in-person'], dtype=object)"
     },
     "execution_count": 42,
     "metadata": {},
     "output_type": "execute_result"
    }
   ],
   "source": [
    "df['RemoteWork'].unique()"
   ],
   "metadata": {
    "collapsed": false,
    "ExecuteTime": {
     "end_time": "2023-06-02T14:31:16.081064516Z",
     "start_time": "2023-06-02T14:31:16.078981093Z"
    }
   }
  },
  {
   "cell_type": "markdown",
   "source": [
    "Note que nem sempre os valores são tão bem definidos, como na coluna `\"RemoteWork\"`. Por exemplo:"
   ],
   "metadata": {
    "collapsed": false
   }
  },
  {
   "cell_type": "code",
   "execution_count": 43,
   "outputs": [
    {
     "data": {
      "text/plain": "array([nan, 'JavaScript;TypeScript', 'C#;C++;HTML/CSS;JavaScript;Python',\n       ..., 'Assembly;C;C++;Java;TypeScript',\n       'Bash/Shell;Dart;JavaScript;PHP;Python;SQL;TypeScript',\n       'C#;JavaScript;Lua;PowerShell;SQL;TypeScript'], dtype=object)"
     },
     "execution_count": 43,
     "metadata": {},
     "output_type": "execute_result"
    }
   ],
   "source": [
    "df['LanguageHaveWorkedWith'].unique()"
   ],
   "metadata": {
    "collapsed": false,
    "ExecuteTime": {
     "end_time": "2023-06-02T14:31:20.224118471Z",
     "start_time": "2023-06-02T14:31:20.212412155Z"
    }
   }
  },
  {
   "cell_type": "markdown",
   "source": [
    "A coluna `\"LanguageHaveWorkedWith\"` possui 25 mil valores únicos! Isso porque cada entrevistado podia escolher qualquer combinação de linguagens de programação nesta resposta."
   ],
   "metadata": {
    "collapsed": false
   }
  },
  {
   "cell_type": "markdown",
   "source": [
    "### Analisando múltiplas colunas categóricas\n",
    "\n",
    "Também é possível passar mais de uma coluna (ou até mesmo um DataFrame inteiro) para ver a contagem de cada combinação de variáveis.\n",
    "\n",
    "Obviamente, quanto mais colunas, mais subdivisões, e mais complexo de interpretar os dados. Ainda assim, pode ser útil para encontrar padrões:"
   ],
   "metadata": {
    "collapsed": false
   }
  },
  {
   "cell_type": "code",
   "execution_count": 44,
   "outputs": [
    {
     "data": {
      "text/plain": "Age                 RemoteWork                          \n18-24 years old     Full in-person                           2372\n                    Fully remote                             3675\n                    Hybrid (some remote, some in-person)     4447\n25-34 years old     Full in-person                           3719\n                    Fully remote                            11063\n                    Hybrid (some remote, some in-person)    11629\n35-44 years old     Full in-person                           1384\n                    Fully remote                             6564\n                    Hybrid (some remote, some in-person)     5600\n45-54 years old     Full in-person                            625\n                    Fully remote                             2341\n                    Hybrid (some remote, some in-person)     2117\n55-64 years old     Full in-person                            212\n                    Fully remote                              926\n                    Hybrid (some remote, some in-person)      676\n65 years or older   Full in-person                             47\n                    Fully remote                              184\n                    Hybrid (some remote, some in-person)      104\nPrefer not to say   Full in-person                             29\n                    Fully remote                              107\n                    Hybrid (some remote, some in-person)       92\nUnder 18 years old  Full in-person                            118\n                    Fully remote                              251\n                    Hybrid (some remote, some in-person)      148\nName: count, dtype: int64"
     },
     "execution_count": 44,
     "metadata": {},
     "output_type": "execute_result"
    }
   ],
   "source": [
    "df[['Age', 'RemoteWork']].value_counts().sort_index()"
   ],
   "metadata": {
    "collapsed": false,
    "ExecuteTime": {
     "end_time": "2023-06-02T14:31:54.852648811Z",
     "start_time": "2023-06-02T14:31:54.814073919Z"
    }
   }
  }
 ],
 "metadata": {
  "kernelspec": {
   "display_name": "Python 3",
   "language": "python",
   "name": "python3"
  },
  "language_info": {
   "codemirror_mode": {
    "name": "ipython",
    "version": 2
   },
   "file_extension": ".py",
   "mimetype": "text/x-python",
   "name": "python",
   "nbconvert_exporter": "python",
   "pygments_lexer": "ipython2",
   "version": "2.7.6"
  }
 },
 "nbformat": 4,
 "nbformat_minor": 0
}
